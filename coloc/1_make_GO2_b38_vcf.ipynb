{
 "cells": [
  {
   "cell_type": "markdown",
   "id": "60657378-775e-40fd-8a3a-eed5fee983d0",
   "metadata": {},
   "source": [
    "# In this notebook we will convert the GWAS summary statistics to the VCF file format using the gwasvcf R package from MRCIEU\n",
    "\n",
    "# Note: at the moment this coloc analysis only uses biallelic SNPs"
   ]
  },
  {
   "cell_type": "code",
   "execution_count": null,
   "id": "071a1b33-302d-4ac2-899c-ff43b98cae3e",
   "metadata": {},
   "outputs": [],
   "source": [
    "# install.packages('R.utils')"
   ]
  },
  {
   "cell_type": "code",
   "execution_count": null,
   "id": "dab50420-b724-4d89-acc0-db358649252a",
   "metadata": {},
   "outputs": [],
   "source": [
    "# Install gwasvcf if needed. This is not included in the original conda envs\n",
    "#install.packages('gwasvcf', repos = c('https://mrcieu.r-universe.dev', 'https://cloud.r-project.org'))"
   ]
  },
  {
   "cell_type": "code",
   "execution_count": null,
   "id": "42277241-bdd5-46f8-90fe-6f7cf865aa4c",
   "metadata": {},
   "outputs": [],
   "source": [
    "library(data.table)\n",
    "library(VariantAnnotation)\n",
    "library(magrittr)\n",
    "library(\"GenomicRanges\")\n",
    "library(rtracklayer)\n",
    "library(coloc)\n",
    "library(dplyr)\n",
    "library(parallel)\n"
   ]
  },
  {
   "cell_type": "code",
   "execution_count": 4,
   "id": "33d2ae4b-5074-4ce1-b2fb-0f61658be71c",
   "metadata": {},
   "outputs": [],
   "source": [
    "library(gwasvcf)"
   ]
  },
  {
   "cell_type": "code",
   "execution_count": 33,
   "id": "261db39b-a71f-4683-980b-32e8c4a12cc6",
   "metadata": {},
   "outputs": [],
   "source": [
    "source(\"Coloc_helper_functions.R\")"
   ]
  },
  {
   "cell_type": "markdown",
   "id": "7a13c6a0-aeda-45c6-9738-dd4520cd7049",
   "metadata": {},
   "source": [
    "## In case the SNP position is present but the rsID is not, we can use a mapping file to add this info\n",
    "## The mapping file required columns are: \n",
    "- chr\n",
    "- pos\n",
    "- ref\n",
    "- alt\n",
    "- rsid"
   ]
  },
  {
   "cell_type": "code",
   "execution_count": 6,
   "id": "4d545edc-91c2-44a7-a504-d2d8af46c4fd",
   "metadata": {},
   "outputs": [],
   "source": [
    "working_dir = \"/lustre/groups/itg/teams/zeggini/projects/child_diabesity/Coloc_pipeline/Coloc\""
   ]
  },
  {
   "cell_type": "code",
   "execution_count": 7,
   "id": "9541b788-5a75-481b-9e91-4bceef2bb67d",
   "metadata": {},
   "outputs": [
    {
     "name": "stderr",
     "output_type": "stream",
     "text": [
      "Warning message:\n",
      "“NAs introduced by coercion”\n"
     ]
    }
   ],
   "source": [
    "# These are UKBB variant annotations in hg19 coordinates\n",
    "variant_ann <- fread(file.path(working_dir, \"ReferenceData/variants.tsv\"), data.table=FALSE)\n",
    "\n",
    "variant_ann$chr <- as.integer(variant_ann$chr)\n",
    "variant_ann <- variant_ann[!is.na(variant_ann$chr) & nchar(variant_ann$ref)==1 & nchar(variant_ann$alt)==1,]\n"
   ]
  },
  {
   "cell_type": "code",
   "execution_count": 8,
   "id": "3ef59e06-59ee-4713-b4d7-e5e29786f121",
   "metadata": {},
   "outputs": [
    {
     "data": {
      "text/html": [
       "<table class=\"dataframe\">\n",
       "<caption>A data.frame: 6 × 25</caption>\n",
       "<thead>\n",
       "\t<tr><th></th><th scope=col>variant</th><th scope=col>chr</th><th scope=col>pos</th><th scope=col>ref</th><th scope=col>alt</th><th scope=col>rsid</th><th scope=col>varid</th><th scope=col>consequence</th><th scope=col>consequence_category</th><th scope=col>info</th><th scope=col>⋯</th><th scope=col>p_hwe</th><th scope=col>n_called</th><th scope=col>n_not_called</th><th scope=col>n_hom_ref</th><th scope=col>n_het</th><th scope=col>n_hom_var</th><th scope=col>n_non_ref</th><th scope=col>r_heterozygosity</th><th scope=col>r_het_hom_var</th><th scope=col>r_expected_het_frequency</th></tr>\n",
       "\t<tr><th></th><th scope=col>&lt;chr&gt;</th><th scope=col>&lt;int&gt;</th><th scope=col>&lt;int&gt;</th><th scope=col>&lt;chr&gt;</th><th scope=col>&lt;chr&gt;</th><th scope=col>&lt;chr&gt;</th><th scope=col>&lt;chr&gt;</th><th scope=col>&lt;chr&gt;</th><th scope=col>&lt;chr&gt;</th><th scope=col>&lt;dbl&gt;</th><th scope=col>⋯</th><th scope=col>&lt;dbl&gt;</th><th scope=col>&lt;int&gt;</th><th scope=col>&lt;int&gt;</th><th scope=col>&lt;int&gt;</th><th scope=col>&lt;int&gt;</th><th scope=col>&lt;int&gt;</th><th scope=col>&lt;int&gt;</th><th scope=col>&lt;dbl&gt;</th><th scope=col>&lt;dbl&gt;</th><th scope=col>&lt;dbl&gt;</th></tr>\n",
       "</thead>\n",
       "<tbody>\n",
       "\t<tr><th scope=row>1</th><td>1:15791:C:T </td><td>1</td><td> 15791</td><td>C</td><td>T</td><td>rs547522712</td><td>1:15791_C_T </td><td>splice_region_variant</td><td>missense  </td><td>0.861678</td><td>⋯</td><td>0.500000</td><td>361194</td><td>0</td><td>361194</td><td>    0</td><td>   0</td><td>    0</td><td>0.00000e+00</td><td>    NA</td><td>0.00000e+00</td></tr>\n",
       "\t<tr><th scope=row>2</th><td>1:69487:G:A </td><td>1</td><td> 69487</td><td>G</td><td>A</td><td>rs568226429</td><td>1:69487_G_A </td><td>missense_variant     </td><td>missense  </td><td>0.956975</td><td>⋯</td><td>0.500004</td><td>361194</td><td>0</td><td>361190</td><td>    4</td><td>   0</td><td>    4</td><td>1.10744e-05</td><td>    NA</td><td>1.10743e-05</td></tr>\n",
       "\t<tr><th scope=row>3</th><td>1:69569:T:C </td><td>1</td><td> 69569</td><td>T</td><td>C</td><td>rs2531267  </td><td>1:69569_T_C </td><td>missense_variant     </td><td>missense  </td><td>0.831664</td><td>⋯</td><td>0.506315</td><td>361194</td><td>0</td><td>361058</td><td>  136</td><td>   0</td><td>  136</td><td>3.76529e-04</td><td>    NA</td><td>3.76459e-04</td></tr>\n",
       "\t<tr><th scope=row>4</th><td>1:139853:C:T</td><td>1</td><td>139853</td><td>C</td><td>T</td><td>rs533633326</td><td>1:139853_C_T</td><td>splice_region_variant</td><td>missense  </td><td>0.985255</td><td>⋯</td><td>0.500004</td><td>361194</td><td>0</td><td>361190</td><td>    4</td><td>   0</td><td>    4</td><td>1.10744e-05</td><td>    NA</td><td>1.10743e-05</td></tr>\n",
       "\t<tr><th scope=row>6</th><td>1:693731:A:G</td><td>1</td><td>693731</td><td>A</td><td>G</td><td>rs12238997 </td><td>1:693731_A_G</td><td>upstream_gene_variant</td><td>non_coding</td><td>0.875969</td><td>⋯</td><td>0.164164</td><td>361192</td><td>2</td><td>281659</td><td>74692</td><td>4841</td><td>79533</td><td>2.06793e-01</td><td>15.429</td><td>2.06315e-01</td></tr>\n",
       "\t<tr><th scope=row>7</th><td>1:707522:G:C</td><td>1</td><td>707522</td><td>G</td><td>C</td><td>rs371890604</td><td>1:707522_G_C</td><td>intron_variant       </td><td>non_coding</td><td>0.803693</td><td>⋯</td><td>0.131323</td><td>361188</td><td>6</td><td>294151</td><td>63688</td><td>3349</td><td>67037</td><td>1.76329e-01</td><td>19.017</td><td>1.75886e-01</td></tr>\n",
       "</tbody>\n",
       "</table>\n"
      ],
      "text/latex": [
       "A data.frame: 6 × 25\n",
       "\\begin{tabular}{r|lllllllllllllllllllll}\n",
       "  & variant & chr & pos & ref & alt & rsid & varid & consequence & consequence\\_category & info & ⋯ & p\\_hwe & n\\_called & n\\_not\\_called & n\\_hom\\_ref & n\\_het & n\\_hom\\_var & n\\_non\\_ref & r\\_heterozygosity & r\\_het\\_hom\\_var & r\\_expected\\_het\\_frequency\\\\\n",
       "  & <chr> & <int> & <int> & <chr> & <chr> & <chr> & <chr> & <chr> & <chr> & <dbl> & ⋯ & <dbl> & <int> & <int> & <int> & <int> & <int> & <int> & <dbl> & <dbl> & <dbl>\\\\\n",
       "\\hline\n",
       "\t1 & 1:15791:C:T  & 1 &  15791 & C & T & rs547522712 & 1:15791\\_C\\_T  & splice\\_region\\_variant & missense   & 0.861678 & ⋯ & 0.500000 & 361194 & 0 & 361194 &     0 &    0 &     0 & 0.00000e+00 &     NA & 0.00000e+00\\\\\n",
       "\t2 & 1:69487:G:A  & 1 &  69487 & G & A & rs568226429 & 1:69487\\_G\\_A  & missense\\_variant      & missense   & 0.956975 & ⋯ & 0.500004 & 361194 & 0 & 361190 &     4 &    0 &     4 & 1.10744e-05 &     NA & 1.10743e-05\\\\\n",
       "\t3 & 1:69569:T:C  & 1 &  69569 & T & C & rs2531267   & 1:69569\\_T\\_C  & missense\\_variant      & missense   & 0.831664 & ⋯ & 0.506315 & 361194 & 0 & 361058 &   136 &    0 &   136 & 3.76529e-04 &     NA & 3.76459e-04\\\\\n",
       "\t4 & 1:139853:C:T & 1 & 139853 & C & T & rs533633326 & 1:139853\\_C\\_T & splice\\_region\\_variant & missense   & 0.985255 & ⋯ & 0.500004 & 361194 & 0 & 361190 &     4 &    0 &     4 & 1.10744e-05 &     NA & 1.10743e-05\\\\\n",
       "\t6 & 1:693731:A:G & 1 & 693731 & A & G & rs12238997  & 1:693731\\_A\\_G & upstream\\_gene\\_variant & non\\_coding & 0.875969 & ⋯ & 0.164164 & 361192 & 2 & 281659 & 74692 & 4841 & 79533 & 2.06793e-01 & 15.429 & 2.06315e-01\\\\\n",
       "\t7 & 1:707522:G:C & 1 & 707522 & G & C & rs371890604 & 1:707522\\_G\\_C & intron\\_variant        & non\\_coding & 0.803693 & ⋯ & 0.131323 & 361188 & 6 & 294151 & 63688 & 3349 & 67037 & 1.76329e-01 & 19.017 & 1.75886e-01\\\\\n",
       "\\end{tabular}\n"
      ],
      "text/markdown": [
       "\n",
       "A data.frame: 6 × 25\n",
       "\n",
       "| <!--/--> | variant &lt;chr&gt; | chr &lt;int&gt; | pos &lt;int&gt; | ref &lt;chr&gt; | alt &lt;chr&gt; | rsid &lt;chr&gt; | varid &lt;chr&gt; | consequence &lt;chr&gt; | consequence_category &lt;chr&gt; | info &lt;dbl&gt; | ⋯ ⋯ | p_hwe &lt;dbl&gt; | n_called &lt;int&gt; | n_not_called &lt;int&gt; | n_hom_ref &lt;int&gt; | n_het &lt;int&gt; | n_hom_var &lt;int&gt; | n_non_ref &lt;int&gt; | r_heterozygosity &lt;dbl&gt; | r_het_hom_var &lt;dbl&gt; | r_expected_het_frequency &lt;dbl&gt; |\n",
       "|---|---|---|---|---|---|---|---|---|---|---|---|---|---|---|---|---|---|---|---|---|---|\n",
       "| 1 | 1:15791:C:T  | 1 |  15791 | C | T | rs547522712 | 1:15791_C_T  | splice_region_variant | missense   | 0.861678 | ⋯ | 0.500000 | 361194 | 0 | 361194 |     0 |    0 |     0 | 0.00000e+00 |     NA | 0.00000e+00 |\n",
       "| 2 | 1:69487:G:A  | 1 |  69487 | G | A | rs568226429 | 1:69487_G_A  | missense_variant      | missense   | 0.956975 | ⋯ | 0.500004 | 361194 | 0 | 361190 |     4 |    0 |     4 | 1.10744e-05 |     NA | 1.10743e-05 |\n",
       "| 3 | 1:69569:T:C  | 1 |  69569 | T | C | rs2531267   | 1:69569_T_C  | missense_variant      | missense   | 0.831664 | ⋯ | 0.506315 | 361194 | 0 | 361058 |   136 |    0 |   136 | 3.76529e-04 |     NA | 3.76459e-04 |\n",
       "| 4 | 1:139853:C:T | 1 | 139853 | C | T | rs533633326 | 1:139853_C_T | splice_region_variant | missense   | 0.985255 | ⋯ | 0.500004 | 361194 | 0 | 361190 |     4 |    0 |     4 | 1.10744e-05 |     NA | 1.10743e-05 |\n",
       "| 6 | 1:693731:A:G | 1 | 693731 | A | G | rs12238997  | 1:693731_A_G | upstream_gene_variant | non_coding | 0.875969 | ⋯ | 0.164164 | 361192 | 2 | 281659 | 74692 | 4841 | 79533 | 2.06793e-01 | 15.429 | 2.06315e-01 |\n",
       "| 7 | 1:707522:G:C | 1 | 707522 | G | C | rs371890604 | 1:707522_G_C | intron_variant        | non_coding | 0.803693 | ⋯ | 0.131323 | 361188 | 6 | 294151 | 63688 | 3349 | 67037 | 1.76329e-01 | 19.017 | 1.75886e-01 |\n",
       "\n"
      ],
      "text/plain": [
       "  variant      chr pos    ref alt rsid        varid       \n",
       "1 1:15791:C:T  1    15791 C   T   rs547522712 1:15791_C_T \n",
       "2 1:69487:G:A  1    69487 G   A   rs568226429 1:69487_G_A \n",
       "3 1:69569:T:C  1    69569 T   C   rs2531267   1:69569_T_C \n",
       "4 1:139853:C:T 1   139853 C   T   rs533633326 1:139853_C_T\n",
       "6 1:693731:A:G 1   693731 A   G   rs12238997  1:693731_A_G\n",
       "7 1:707522:G:C 1   707522 G   C   rs371890604 1:707522_G_C\n",
       "  consequence           consequence_category info     ⋯ p_hwe    n_called\n",
       "1 splice_region_variant missense             0.861678 ⋯ 0.500000 361194  \n",
       "2 missense_variant      missense             0.956975 ⋯ 0.500004 361194  \n",
       "3 missense_variant      missense             0.831664 ⋯ 0.506315 361194  \n",
       "4 splice_region_variant missense             0.985255 ⋯ 0.500004 361194  \n",
       "6 upstream_gene_variant non_coding           0.875969 ⋯ 0.164164 361192  \n",
       "7 intron_variant        non_coding           0.803693 ⋯ 0.131323 361188  \n",
       "  n_not_called n_hom_ref n_het n_hom_var n_non_ref r_heterozygosity\n",
       "1 0            361194        0    0          0     0.00000e+00     \n",
       "2 0            361190        4    0          4     1.10744e-05     \n",
       "3 0            361058      136    0        136     3.76529e-04     \n",
       "4 0            361190        4    0          4     1.10744e-05     \n",
       "6 2            281659    74692 4841      79533     2.06793e-01     \n",
       "7 6            294151    63688 3349      67037     1.76329e-01     \n",
       "  r_het_hom_var r_expected_het_frequency\n",
       "1     NA        0.00000e+00             \n",
       "2     NA        1.10743e-05             \n",
       "3     NA        3.76459e-04             \n",
       "4     NA        1.10743e-05             \n",
       "6 15.429        2.06315e-01             \n",
       "7 19.017        1.75886e-01             "
      ]
     },
     "metadata": {},
     "output_type": "display_data"
    }
   ],
   "source": [
    "head(variant_ann)"
   ]
  },
  {
   "cell_type": "code",
   "execution_count": 9,
   "id": "18649dfb-e61c-467f-8459-0ea9bc265132",
   "metadata": {},
   "outputs": [],
   "source": [
    "dir.create(\"VCF\")"
   ]
  },
  {
   "cell_type": "markdown",
   "id": "dac7b5a2-b7be-4a14-9c92-70a967381a51",
   "metadata": {},
   "source": [
    "# We need to provide the number of cases and controls. This can be done manually or, if the study is present in the GWAScatalog, it can be extracted programmatically"
   ]
  },
  {
   "cell_type": "code",
   "execution_count": 10,
   "id": "7696af11-f58f-4378-bb39-460c2e460a4a",
   "metadata": {},
   "outputs": [
    {
     "name": "stderr",
     "output_type": "stream",
     "text": [
      "\n",
      "Attaching package: ‘gwasrapidd’\n",
      "\n",
      "\n",
      "The following object is masked from ‘package:dplyr’:\n",
      "\n",
      "    n\n",
      "\n",
      "\n"
     ]
    }
   ],
   "source": [
    "# If extracted from the GWAScatalog\n",
    "#install.packages(\"gwasrapidd\")\n",
    "library(gwasrapidd)"
   ]
  },
  {
   "cell_type": "code",
   "execution_count": 35,
   "id": "24659e4e-9e52-4e97-8280-3ab9f30319e8",
   "metadata": {},
   "outputs": [],
   "source": [
    "# get top associations\n",
    "GWAS_ID <- \"GCST009004\" # Provide the GWAScatalog ID\n",
    "\n",
    "GWAS_n <- Get_sampleSize_GWAScatalog(GWAS_ID)"
   ]
  },
  {
   "cell_type": "code",
   "execution_count": 36,
   "id": "78607b3a-8b54-4ab9-91b3-cadbdbccc4c8",
   "metadata": {},
   "outputs": [
    {
     "data": {
      "text/html": [
       "806834"
      ],
      "text/latex": [
       "806834"
      ],
      "text/markdown": [
       "806834"
      ],
      "text/plain": [
       "[1] 806834"
      ]
     },
     "metadata": {},
     "output_type": "display_data"
    }
   ],
   "source": [
    "GWAS_n"
   ]
  },
  {
   "cell_type": "code",
   "execution_count": 37,
   "id": "22075a3a-f7f7-4b53-a905-9d12addeeb94",
   "metadata": {},
   "outputs": [
    {
     "name": "stdout",
     "output_type": "stream",
     "text": [
      "[1] \"Reading GWAS sumstats\"\n",
      "[1] \"Filtering VCF for MAF 5% and known SNPs\"\n",
      "[1] \"Creating VCF with 5477563 SNPs\"\n"
     ]
    }
   ],
   "source": [
    "# This is in hg19\n",
    "GWASfile <- file.path(working_dir, \"GWAS_sumstats/bmi.giant-ukbb.meta-analysis.combined.23May2018.txt.gz\")\n",
    "\n",
    "GWAS_prefix <- \"BMI\"\n",
    "\n",
    "make_vcf(GWASfile=GWASfile,\n",
    "           chrom=\"CHR\",\n",
    "           pos=\"POS\",\n",
    "           nea=\"Other_Allele\",\n",
    "           ea=\"Tested_Allele\",\n",
    "           snp=\"SNP\",\n",
    "           ea_af=\"Freq_Tested_Allele\",\n",
    "           effect=\"BETA\",\n",
    "           se=\"SE\",\n",
    "           pval=\"P\",\n",
    "           WantToLiftOver=FALSE, # If you want to liftover, make sure to specify a path to the chain files\n",
    "           ch_path = file.path(working_dir, \"ReferenceData/hg19ToHg38.over.chain\"), # Note, this is an example, since I set WantToLiftOver=FALSE, this chain file will not be used\n",
    "           GWAS_n=GWAS_n, # a vector of one or two elements. If quantitative trait, total sample size, if case/control, number of cases and controls\n",
    "           variant_ann=variant_ann, # reference file to map the missing values\n",
    "           # output=paste0(\"/lustre/groups/itg/teams/zeggini/projects/fungen-oa/analyses/Ana_coloc_mr/GO2_sumstats/GO2_b38_\", trait, \"_ody_cptid.vcf\"))\n",
    "           output=paste0(\"VCF/\", GWAS_prefix, \".vcf\"))\n"
   ]
  },
  {
   "cell_type": "code",
   "execution_count": 38,
   "id": "7b57fada-a468-428b-9256-ea5529f86f59",
   "metadata": {},
   "outputs": [],
   "source": [
    "# get top associations\n",
    "GWAS_ID <- \"GCST009382\" # Provide the GWAScatalog ID\n",
    "# in case of multi-ancestry study, if you specify a population, sucj as population=\"eur\", it will extract the sample size of only that population\n",
    "GWAS_n <- Get_sampleSize_GWAScatalog(GWAS_ID)"
   ]
  },
  {
   "cell_type": "code",
   "execution_count": 39,
   "id": "36c25580-c972-4806-afe9-230bd3f87aa8",
   "metadata": {},
   "outputs": [
    {
     "data": {
      "text/html": [
       "<style>\n",
       ".list-inline {list-style: none; margin:0; padding: 0}\n",
       ".list-inline>li {display: inline-block}\n",
       ".list-inline>li:not(:last-child)::after {content: \"\\00b7\"; padding: 0 .5ex}\n",
       "</style>\n",
       "<ol class=list-inline><li>13005</li><li>15599</li></ol>\n"
      ],
      "text/latex": [
       "\\begin{enumerate*}\n",
       "\\item 13005\n",
       "\\item 15599\n",
       "\\end{enumerate*}\n"
      ],
      "text/markdown": [
       "1. 13005\n",
       "2. 15599\n",
       "\n",
       "\n"
      ],
      "text/plain": [
       "[1] 13005 15599"
      ]
     },
     "metadata": {},
     "output_type": "display_data"
    }
   ],
   "source": [
    "GWAS_n <- Get_sampleSize_GWAScatalog(GWAS_ID)\n",
    "GWAS_n"
   ]
  },
  {
   "cell_type": "code",
   "execution_count": 40,
   "id": "be06c88d-eaa6-4a72-a293-258df4d854a4",
   "metadata": {},
   "outputs": [
    {
     "name": "stdout",
     "output_type": "stream",
     "text": [
      "[1] \"Reading GWAS sumstats\"\n",
      "[1] \"SNP ID not provided, so using reference to map coordinates to rsid\"\n",
      "[1] \"Lifting over GWAS\"\n"
     ]
    },
    {
     "name": "stderr",
     "output_type": "stream",
     "text": [
      "Discarding unchained sequences: chr23\n",
      "\n"
     ]
    },
    {
     "name": "stdout",
     "output_type": "stream",
     "text": [
      "[1] \"Filtering VCF for MAF 5% and known SNPs\"\n",
      "[1] \"Creating VCF with 6255594 SNPs\"\n",
      " [1] \"ID\"       \"chrom\"    \"pos\"      \"Allele1\"  \"Allele2\"  \"AFR_N\"   \n",
      " [7] \"AFR_FRQ\"  \"AFR_BETA\" \"AFR_SE\"   \"AFR_P\"    \"ASN_N\"    \"ASN_FRQ\" \n",
      "[13] \"ASN_BETA\" \"ASN_SE\"   \"ASN_P\"    \"EUR_N\"    \"Freq1\"    \"Effect\"  \n",
      "[19] \"StdErr\"   \"p\"        \"AMR_N\"    \"AMR_FRQ\"  \"AMR_BETA\" \"AMR_SE\"  \n",
      "[25] \"AMR_P\"    \"BAYES\"    \"SNP\"      \"SS\"       \"ncase\"   \n"
     ]
    }
   ],
   "source": [
    "# In this example, it is case-control and I want to lift it over to hg38\n",
    "GWASfile <- file.path(working_dir, \"GWAS_sumstats/CHILDHOOD_OBESITY.TRANS_ANCESTRAL.RESULTS.txt.gz\")\n",
    "\n",
    "GWAS_prefix <- \"childhood_obesity\"\n",
    "\n",
    "make_vcf(GWASfile=GWASfile,\n",
    "           chrom=\"CHR\",\n",
    "           pos=\"POS\",\n",
    "           nea=\"OA\",\n",
    "           ea=\"EA\",\n",
    "           snp=NULL,\n",
    "           ea_af=\"EUR_FRQ\",\n",
    "           effect=\"EUR_BETA\",\n",
    "           se=\"EUR_SE\",\n",
    "           pval=\"EUR_P\",\n",
    "           WantToLiftOver=TRUE, # If you want to liftover, make sure to specify a path to the chain files\n",
    "           ch_path = file.path(working_dir, \"ReferenceData/hg19ToHg38.over.chain\"), # Note, this is an example, since I set WantToLiftOver=FALSE, this chain file will not be used\n",
    "           GWAS_n=GWAS_n, # a vector of one or two elements. If quantitative trait, total sample size, if case/control, number of cases and controls\n",
    "           variant_ann=variant_ann, # reference file to map coordinates. If position is not provided but the rsID is, then it uses variant_ann to add the position. If the position is given, but the rsID is not, then it uses it to add the rsID\n",
    "           # output=paste0(\"/lustre/groups/itg/teams/zeggini/projects/fungen-oa/analyses/Ana_coloc_mr/GO2_sumstats/GO2_b38_\", trait, \"_ody_cptid.vcf\"))\n",
    "           output=paste0(\"VCF/\", GWAS_prefix, \"_hg38.vcf\"))\n"
   ]
  },
  {
   "cell_type": "code",
   "execution_count": null,
   "id": "a4f58e06-2406-4a88-8ae9-dabfb4c7f1d3",
   "metadata": {},
   "outputs": [],
   "source": [
    "# We now have a tabix indexed VCF file\n",
    "list.files(\"VCF\")"
   ]
  },
  {
   "cell_type": "code",
   "execution_count": null,
   "id": "f934f7b5-9239-4fa3-aaf8-411ff808f896",
   "metadata": {},
   "outputs": [],
   "source": [
    "# This is what it looks like\n",
    "cat(system(\"zcat VCF/BMI.vcf.bgz|head -n 40\", intern = TRUE), sep = \"\\n\")"
   ]
  },
  {
   "cell_type": "markdown",
   "id": "e70d9b61-dcbf-454b-82b2-b57380d7cdaa",
   "metadata": {},
   "source": [
    "# We can now move to 2_run_coloc_abf"
   ]
  }
 ],
 "metadata": {
  "kernelspec": {
   "display_name": "R",
   "language": "R",
   "name": "ir"
  },
  "language_info": {
   "codemirror_mode": "r",
   "file_extension": ".r",
   "mimetype": "text/x-r-source",
   "name": "R",
   "pygments_lexer": "r",
   "version": "4.3.3"
  }
 },
 "nbformat": 4,
 "nbformat_minor": 5
}
