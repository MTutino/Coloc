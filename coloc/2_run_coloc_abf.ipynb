{
 "cells": [
  {
   "cell_type": "code",
   "execution_count": null,
   "id": "257053cc-e9f9-485a-a5cc-ec7a13eddf5d",
   "metadata": {},
   "outputs": [],
   "source": [
    "library(data.table)\n",
    "library(VariantAnnotation)\n",
    "library(gwasvcf)\n",
    "library(magrittr)\n",
    "library(GenomicRanges)\n",
    "library(rtracklayer)\n",
    "library(coloc)\n",
    "library(dplyr)\n",
    "#library(httr)\n",
    "#library(jsonlite)\n",
    "library(parallel)"
   ]
  },
  {
   "cell_type": "code",
   "execution_count": 2,
   "id": "ed9e5284-253a-4246-ab15-788083d60130",
   "metadata": {},
   "outputs": [],
   "source": [
    "data.path <- \"/lustre/groups/itg/teams/zeggini/projects/child_diabesity/analysis/methyl/fastQTL/Results/peer20_PCA5/Results/\"\n",
    "working_dir = \"/lustre/groups/itg/teams/zeggini/projects/child_diabesity/Coloc_pipeline/Coloc\"\n",
    "setwd(working_dir)\n"
   ]
  },
  {
   "cell_type": "code",
   "execution_count": 59,
   "id": "0c13d690-4100-48c1-986c-6eb990cb7907",
   "metadata": {},
   "outputs": [],
   "source": [
    "source(\"coloc/Coloc_helper_functions.R\")"
   ]
  },
  {
   "cell_type": "markdown",
   "id": "564a020d-7c43-489c-8de2-a5c95d42b2f8",
   "metadata": {},
   "source": [
    "# Load the reference datasets"
   ]
  },
  {
   "cell_type": "code",
   "execution_count": 4,
   "id": "fe467675-ffbd-4abb-b078-8a0d7fa202f3",
   "metadata": {},
   "outputs": [],
   "source": [
    "# These are UKBB variant annotations in hg19 coordinates\n",
    "variant_ann <- fread(file.path(working_dir, \"ReferenceData/variants.tsv\"), data.table=FALSE)\n"
   ]
  },
  {
   "cell_type": "code",
   "execution_count": 5,
   "id": "420aa55d-c60d-4958-86cf-74303b31ee22",
   "metadata": {},
   "outputs": [],
   "source": [
    "# This is to annotate fastqtl output with genomic positions. This has to be the same genotype used in the QTL analysis\n",
    "# The best thing is to only supply the first 5 columns of the VCF file, withoiut the header, in a txt file. In this case I called this file SNP_POS.txt\n",
    "PATH_IN_G = \"/lustre/groups/itg/teams/zeggini/projects/child_diabesity/data/CleanGenotypes\"\n",
    "SNP_POS <- fread(file.path(PATH_IN_G, \"SNP_POS.txt\"))\n",
    "\n"
   ]
  },
  {
   "cell_type": "code",
   "execution_count": 6,
   "id": "58ccedeb-19ad-4326-afcb-f4fb76556c98",
   "metadata": {},
   "outputs": [],
   "source": [
    "# For mQTLs\n",
    "# Available annotations here /lustre/groups/itg/teams/zeggini/projects/fungen-oa/analyses/methylqq2/annotations/\n",
    "m_anno <- get_m_anno_epic(m_anno = \"EPIC.hg19.manifest.tsv.gz\")\n"
   ]
  },
  {
   "cell_type": "code",
   "execution_count": null,
   "id": "2ecd3f01-bf5c-471a-a9e0-0a35ce4e7f14",
   "metadata": {},
   "outputs": [],
   "source": [
    "# For eQTLs. This is the bed file used in the fastqtl analysis\n",
    "e_path <- \"/lustre/groups/itg/teams/zeggini/projects/child_diabesity/analysis/rnaseq/PrepareData\"\n",
    "e_anno <- fread(file.path(e_path, \"geneTSS_mostAbundTxInAT_hg19_GeneExp_TMMNorm_INT_fastqtl.bed\"), data.frame=FALSE)\n",
    "e_anno <- e_anno[,1:4]\n"
   ]
  },
  {
   "cell_type": "markdown",
   "id": "4f7e1201-bd7a-460e-888d-99caa0fef519",
   "metadata": {},
   "source": [
    "# Get top associations for the GWAScatalog"
   ]
  },
  {
   "cell_type": "code",
   "execution_count": 7,
   "id": "04d3ed6a-7a91-419d-9176-60e6e31b5f80",
   "metadata": {},
   "outputs": [
    {
     "name": "stderr",
     "output_type": "stream",
     "text": [
      "\n",
      "Attaching package: ‘gwasrapidd’\n",
      "\n",
      "\n",
      "The following object is masked from ‘package:dplyr’:\n",
      "\n",
      "    n\n",
      "\n",
      "\n"
     ]
    }
   ],
   "source": [
    "library(gwasrapidd)"
   ]
  },
  {
   "cell_type": "code",
   "execution_count": 60,
   "id": "7e85cd50-3d95-46fc-b9d1-138732b7f48c",
   "metadata": {},
   "outputs": [],
   "source": [
    "# Set GWAScatalog ID\n",
    "GWAS_ID <- \"GCST009004\"\n"
   ]
  },
  {
   "cell_type": "code",
   "execution_count": 61,
   "id": "6198498b-a0d4-46d3-bbf7-c1a983be8b47",
   "metadata": {},
   "outputs": [
    {
     "name": "stdout",
     "output_type": "stream",
     "text": [
      "[1] \"sample size is 806834\"\n"
     ]
    }
   ],
   "source": [
    "#####################################################\n",
    "########## GET SAMPLE SIZE FROM THE GWAS CATALOG\n",
    "#####################################################\n",
    "# This bit of code is going to extract the sample size from the GWAS catalog. \n",
    "# If you already know the sample size, just make a variable \"GWAS_n\" with the total sample size, for a quantitative trait, or the number of cases and controls, if a case-control study\n",
    "GWAS_n <- Get_sampleSize_GWAScatalog(GWAS_ID)\n",
    "print(paste0(\"sample size is \", GWAS_n))"
   ]
  },
  {
   "cell_type": "code",
   "execution_count": 62,
   "id": "20fa35e5-0a06-4c1c-9462-5cf6b7cf6f6b",
   "metadata": {},
   "outputs": [],
   "source": [
    "######################################\n",
    "###### EXTRACT TOP SNP INFO FROM THE GWAS CATALOG\n",
    "######################################\n",
    "    \n",
    "# Function to extract top hits information from the GWAScatalog. hg38\n",
    "# If you use a GWAS that is not on the GWAS catalog, you need a data.frame with the columns\n",
    "# variant_id: this is rsID\n",
    "# chromosome_name: chromosome name without the chr prefix\n",
    "# chromosome_position: chromosome position\n",
    "# pvalue: pvalue\n",
    "# if(!exists(\"GWAS_associations_df\")){\n",
    "GWAS_associations_df <- get_GWAScatalog_topHits(GWAS_ID)\n",
    "# }\n",
    "    \n",
    "\n",
    "GWAS_associations_df <- GWAS_associations_df %>%\n",
    "                            dplyr::filter(!is.na(chromosome_position),\n",
    "                                          chromosome_name != \"X\",\n",
    "                                          pvalue < 5e-8) # In case the study reports top hits with p < 10-6 in the GWAScatalog\n",
    "\n",
    "\n"
   ]
  },
  {
   "cell_type": "code",
   "execution_count": 11,
   "id": "1df5b517-688e-43b8-9420-597128e13399",
   "metadata": {
    "scrolled": true
   },
   "outputs": [
    {
     "data": {
      "text/html": [
       "<table class=\"dataframe\">\n",
       "<caption>A data.frame: 6 × 27</caption>\n",
       "<thead>\n",
       "\t<tr><th></th><th scope=col>association_id</th><th scope=col>pvalue</th><th scope=col>pvalue_description</th><th scope=col>pvalue_mantissa</th><th scope=col>pvalue_exponent</th><th scope=col>multiple_snp_haplotype</th><th scope=col>snp_interaction</th><th scope=col>snp_type</th><th scope=col>risk_frequency</th><th scope=col>standard_error</th><th scope=col>⋯</th><th scope=col>last_update_date</th><th scope=col>SS</th><th scope=col>ID</th><th scope=col>locus_id</th><th scope=col>variant_id</th><th scope=col>risk_allele</th><th scope=col>genome_wide</th><th scope=col>limited_list</th><th scope=col>chromosome_name</th><th scope=col>chromosome_position</th></tr>\n",
       "\t<tr><th></th><th scope=col>&lt;chr&gt;</th><th scope=col>&lt;dbl&gt;</th><th scope=col>&lt;chr&gt;</th><th scope=col>&lt;int&gt;</th><th scope=col>&lt;int&gt;</th><th scope=col>&lt;lgl&gt;</th><th scope=col>&lt;lgl&gt;</th><th scope=col>&lt;chr&gt;</th><th scope=col>&lt;dbl&gt;</th><th scope=col>&lt;dbl&gt;</th><th scope=col>⋯</th><th scope=col>&lt;dttm&gt;</th><th scope=col>&lt;dbl&gt;</th><th scope=col>&lt;chr&gt;</th><th scope=col>&lt;int&gt;</th><th scope=col>&lt;chr&gt;</th><th scope=col>&lt;chr&gt;</th><th scope=col>&lt;lgl&gt;</th><th scope=col>&lt;lgl&gt;</th><th scope=col>&lt;chr&gt;</th><th scope=col>&lt;int&gt;</th></tr>\n",
       "</thead>\n",
       "<tbody>\n",
       "\t<tr><th scope=row>1</th><td>49128432</td><td>2e-13</td><td>NA</td><td>2</td><td>-13</td><td>FALSE</td><td>FALSE</td><td>novel</td><td>0.7762</td><td>0.0023</td><td>⋯</td><td>2025-06-14 01:10:29</td><td>806834</td><td>GCST009004</td><td>1</td><td>rs12072739</td><td>A</td><td>FALSE</td><td>FALSE</td><td>1 </td><td> 97850337</td></tr>\n",
       "\t<tr><th scope=row>2</th><td>49128437</td><td>1e-12</td><td>NA</td><td>1</td><td>-12</td><td>FALSE</td><td>FALSE</td><td>novel</td><td>0.1212</td><td>0.0026</td><td>⋯</td><td>2025-06-14 01:11:07</td><td>806834</td><td>GCST009004</td><td>1</td><td>rs12098284</td><td>T</td><td>FALSE</td><td>FALSE</td><td>10</td><td> 74287706</td></tr>\n",
       "\t<tr><th scope=row>3</th><td>49128442</td><td>7e-24</td><td>NA</td><td>7</td><td>-24</td><td>FALSE</td><td>FALSE</td><td>novel</td><td>0.3355</td><td>0.0018</td><td>⋯</td><td>2025-06-14 01:11:08</td><td>806834</td><td>GCST009004</td><td>1</td><td>rs12121950</td><td>T</td><td>FALSE</td><td>FALSE</td><td>1 </td><td> 49244592</td></tr>\n",
       "\t<tr><th scope=row>4</th><td>49128447</td><td>1e-25</td><td>NA</td><td>1</td><td>-25</td><td>FALSE</td><td>FALSE</td><td>novel</td><td>0.0911</td><td>0.0034</td><td>⋯</td><td>2025-06-14 01:11:08</td><td>806834</td><td>GCST009004</td><td>1</td><td>rs12140153</td><td>T</td><td>FALSE</td><td>FALSE</td><td>1 </td><td> 62114219</td></tr>\n",
       "\t<tr><th scope=row>5</th><td>49128452</td><td>5e-12</td><td>NA</td><td>5</td><td>-12</td><td>FALSE</td><td>FALSE</td><td>novel</td><td>0.1115</td><td>0.0027</td><td>⋯</td><td>2025-06-14 01:11:15</td><td>806834</td><td>GCST009004</td><td>1</td><td>rs12147845</td><td>T</td><td>FALSE</td><td>FALSE</td><td>14</td><td>100678259</td></tr>\n",
       "\t<tr><th scope=row>6</th><td>49128457</td><td>7e-27</td><td>NA</td><td>7</td><td>-27</td><td>FALSE</td><td>FALSE</td><td>novel</td><td>0.4087</td><td>0.0020</td><td>⋯</td><td>2025-06-14 01:11:16</td><td>806834</td><td>GCST009004</td><td>1</td><td>rs12151152</td><td>A</td><td>FALSE</td><td>FALSE</td><td>19</td><td> 47060275</td></tr>\n",
       "</tbody>\n",
       "</table>\n"
      ],
      "text/latex": [
       "A data.frame: 6 × 27\n",
       "\\begin{tabular}{r|lllllllllllllllllllll}\n",
       "  & association\\_id & pvalue & pvalue\\_description & pvalue\\_mantissa & pvalue\\_exponent & multiple\\_snp\\_haplotype & snp\\_interaction & snp\\_type & risk\\_frequency & standard\\_error & ⋯ & last\\_update\\_date & SS & ID & locus\\_id & variant\\_id & risk\\_allele & genome\\_wide & limited\\_list & chromosome\\_name & chromosome\\_position\\\\\n",
       "  & <chr> & <dbl> & <chr> & <int> & <int> & <lgl> & <lgl> & <chr> & <dbl> & <dbl> & ⋯ & <dttm> & <dbl> & <chr> & <int> & <chr> & <chr> & <lgl> & <lgl> & <chr> & <int>\\\\\n",
       "\\hline\n",
       "\t1 & 49128432 & 2e-13 & NA & 2 & -13 & FALSE & FALSE & novel & 0.7762 & 0.0023 & ⋯ & 2025-06-14 01:10:29 & 806834 & GCST009004 & 1 & rs12072739 & A & FALSE & FALSE & 1  &  97850337\\\\\n",
       "\t2 & 49128437 & 1e-12 & NA & 1 & -12 & FALSE & FALSE & novel & 0.1212 & 0.0026 & ⋯ & 2025-06-14 01:11:07 & 806834 & GCST009004 & 1 & rs12098284 & T & FALSE & FALSE & 10 &  74287706\\\\\n",
       "\t3 & 49128442 & 7e-24 & NA & 7 & -24 & FALSE & FALSE & novel & 0.3355 & 0.0018 & ⋯ & 2025-06-14 01:11:08 & 806834 & GCST009004 & 1 & rs12121950 & T & FALSE & FALSE & 1  &  49244592\\\\\n",
       "\t4 & 49128447 & 1e-25 & NA & 1 & -25 & FALSE & FALSE & novel & 0.0911 & 0.0034 & ⋯ & 2025-06-14 01:11:08 & 806834 & GCST009004 & 1 & rs12140153 & T & FALSE & FALSE & 1  &  62114219\\\\\n",
       "\t5 & 49128452 & 5e-12 & NA & 5 & -12 & FALSE & FALSE & novel & 0.1115 & 0.0027 & ⋯ & 2025-06-14 01:11:15 & 806834 & GCST009004 & 1 & rs12147845 & T & FALSE & FALSE & 14 & 100678259\\\\\n",
       "\t6 & 49128457 & 7e-27 & NA & 7 & -27 & FALSE & FALSE & novel & 0.4087 & 0.0020 & ⋯ & 2025-06-14 01:11:16 & 806834 & GCST009004 & 1 & rs12151152 & A & FALSE & FALSE & 19 &  47060275\\\\\n",
       "\\end{tabular}\n"
      ],
      "text/markdown": [
       "\n",
       "A data.frame: 6 × 27\n",
       "\n",
       "| <!--/--> | association_id &lt;chr&gt; | pvalue &lt;dbl&gt; | pvalue_description &lt;chr&gt; | pvalue_mantissa &lt;int&gt; | pvalue_exponent &lt;int&gt; | multiple_snp_haplotype &lt;lgl&gt; | snp_interaction &lt;lgl&gt; | snp_type &lt;chr&gt; | risk_frequency &lt;dbl&gt; | standard_error &lt;dbl&gt; | ⋯ ⋯ | last_update_date &lt;dttm&gt; | SS &lt;dbl&gt; | ID &lt;chr&gt; | locus_id &lt;int&gt; | variant_id &lt;chr&gt; | risk_allele &lt;chr&gt; | genome_wide &lt;lgl&gt; | limited_list &lt;lgl&gt; | chromosome_name &lt;chr&gt; | chromosome_position &lt;int&gt; |\n",
       "|---|---|---|---|---|---|---|---|---|---|---|---|---|---|---|---|---|---|---|---|---|---|\n",
       "| 1 | 49128432 | 2e-13 | NA | 2 | -13 | FALSE | FALSE | novel | 0.7762 | 0.0023 | ⋯ | 2025-06-14 01:10:29 | 806834 | GCST009004 | 1 | rs12072739 | A | FALSE | FALSE | 1  |  97850337 |\n",
       "| 2 | 49128437 | 1e-12 | NA | 1 | -12 | FALSE | FALSE | novel | 0.1212 | 0.0026 | ⋯ | 2025-06-14 01:11:07 | 806834 | GCST009004 | 1 | rs12098284 | T | FALSE | FALSE | 10 |  74287706 |\n",
       "| 3 | 49128442 | 7e-24 | NA | 7 | -24 | FALSE | FALSE | novel | 0.3355 | 0.0018 | ⋯ | 2025-06-14 01:11:08 | 806834 | GCST009004 | 1 | rs12121950 | T | FALSE | FALSE | 1  |  49244592 |\n",
       "| 4 | 49128447 | 1e-25 | NA | 1 | -25 | FALSE | FALSE | novel | 0.0911 | 0.0034 | ⋯ | 2025-06-14 01:11:08 | 806834 | GCST009004 | 1 | rs12140153 | T | FALSE | FALSE | 1  |  62114219 |\n",
       "| 5 | 49128452 | 5e-12 | NA | 5 | -12 | FALSE | FALSE | novel | 0.1115 | 0.0027 | ⋯ | 2025-06-14 01:11:15 | 806834 | GCST009004 | 1 | rs12147845 | T | FALSE | FALSE | 14 | 100678259 |\n",
       "| 6 | 49128457 | 7e-27 | NA | 7 | -27 | FALSE | FALSE | novel | 0.4087 | 0.0020 | ⋯ | 2025-06-14 01:11:16 | 806834 | GCST009004 | 1 | rs12151152 | A | FALSE | FALSE | 19 |  47060275 |\n",
       "\n"
      ],
      "text/plain": [
       "  association_id pvalue pvalue_description pvalue_mantissa pvalue_exponent\n",
       "1 49128432       2e-13  NA                 2               -13            \n",
       "2 49128437       1e-12  NA                 1               -12            \n",
       "3 49128442       7e-24  NA                 7               -24            \n",
       "4 49128447       1e-25  NA                 1               -25            \n",
       "5 49128452       5e-12  NA                 5               -12            \n",
       "6 49128457       7e-27  NA                 7               -27            \n",
       "  multiple_snp_haplotype snp_interaction snp_type risk_frequency standard_error\n",
       "1 FALSE                  FALSE           novel    0.7762         0.0023        \n",
       "2 FALSE                  FALSE           novel    0.1212         0.0026        \n",
       "3 FALSE                  FALSE           novel    0.3355         0.0018        \n",
       "4 FALSE                  FALSE           novel    0.0911         0.0034        \n",
       "5 FALSE                  FALSE           novel    0.1115         0.0027        \n",
       "6 FALSE                  FALSE           novel    0.4087         0.0020        \n",
       "  ⋯ last_update_date    SS     ID         locus_id variant_id risk_allele\n",
       "1 ⋯ 2025-06-14 01:10:29 806834 GCST009004 1        rs12072739 A          \n",
       "2 ⋯ 2025-06-14 01:11:07 806834 GCST009004 1        rs12098284 T          \n",
       "3 ⋯ 2025-06-14 01:11:08 806834 GCST009004 1        rs12121950 T          \n",
       "4 ⋯ 2025-06-14 01:11:08 806834 GCST009004 1        rs12140153 T          \n",
       "5 ⋯ 2025-06-14 01:11:15 806834 GCST009004 1        rs12147845 T          \n",
       "6 ⋯ 2025-06-14 01:11:16 806834 GCST009004 1        rs12151152 A          \n",
       "  genome_wide limited_list chromosome_name chromosome_position\n",
       "1 FALSE       FALSE        1                97850337          \n",
       "2 FALSE       FALSE        10               74287706          \n",
       "3 FALSE       FALSE        1                49244592          \n",
       "4 FALSE       FALSE        1                62114219          \n",
       "5 FALSE       FALSE        14              100678259          \n",
       "6 FALSE       FALSE        19               47060275          "
      ]
     },
     "metadata": {},
     "output_type": "display_data"
    }
   ],
   "source": [
    "head(GWAS_associations_df)"
   ]
  },
  {
   "cell_type": "code",
   "execution_count": 63,
   "id": "71450e03-5fc0-4bca-a389-83b5bc275521",
   "metadata": {},
   "outputs": [],
   "source": [
    "# Tidy-up\n",
    "signals.b38 <- GWAS_associations_df %>%\n",
    "                    dplyr::select(\"variant_id\", chrom=\"chromosome_name\", pos=\"chromosome_position\", \"ID\")\n",
    "\n",
    "# Convert to the hg build if needed\n",
    "signals.hg19 <- lifOverFunction_vcf(signals.b38, ch_path=file.path(working_dir, \"ReferenceData/hg38ToHg19.over.chain\"))\n",
    "\n",
    "# Tidy-up\n",
    "top <- signals.hg19 %>%\n",
    "        dplyr::rename(\"rsid\"=variant_id,\n",
    "              \"position\"=start,\n",
    "              \"chromosome\"=seqnames) %>%\n",
    "        mutate(chromosome=gsub(\"chr\", \"\", chromosome)) %>%\n",
    "        dplyr::filter(!is.na(position)) %>%\n",
    "        dplyr::select(rsid, chromosome, position)\n",
    "\n",
    "# Save the results\n",
    "save(top, file = file.path(\"GWAS_sumstats\", paste0(GWAS_ID,\"_topHits.rda\")))\n"
   ]
  },
  {
   "cell_type": "code",
   "execution_count": 46,
   "id": "a06a6dec-4dfc-4ccb-a756-177aa1430fdd",
   "metadata": {},
   "outputs": [],
   "source": [
    "# Load the data if already processed\n",
    "#load(file = file.path(\"GWAS_sumstats\", paste0(GWAS_ID,\"_topHits.rda\")))\n",
    "\n",
    "# top_tmp <- top\n",
    "# top_tmp$position2 <- top_tmp$position\n",
    "# top_tmp$chr <- as.numeric(as.character(top_tmp$chr))\n",
    "# top <- as.data.frame(top_tmp)\n"
   ]
  },
  {
   "cell_type": "code",
   "execution_count": 47,
   "id": "664e8526-aa7f-4044-ae8e-0b83ee2b4fc5",
   "metadata": {},
   "outputs": [
    {
     "data": {
      "text/html": [
       "<table class=\"dataframe\">\n",
       "<caption>A data.frame: 5 × 5</caption>\n",
       "<thead>\n",
       "\t<tr><th></th><th scope=col>rsid</th><th scope=col>chromosome</th><th scope=col>position</th><th scope=col>position2</th><th scope=col>chr</th></tr>\n",
       "\t<tr><th></th><th scope=col>&lt;chr&gt;</th><th scope=col>&lt;chr&gt;</th><th scope=col>&lt;int&gt;</th><th scope=col>&lt;int&gt;</th><th scope=col>&lt;dbl&gt;</th></tr>\n",
       "</thead>\n",
       "<tbody>\n",
       "\t<tr><th scope=row>1</th><td>rs12072739</td><td>1 </td><td> 98315893</td><td> 98315893</td><td> 1</td></tr>\n",
       "\t<tr><th scope=row>2</th><td>rs12098284</td><td>10</td><td> 76047464</td><td> 76047464</td><td>10</td></tr>\n",
       "\t<tr><th scope=row>3</th><td>rs12121950</td><td>1 </td><td> 49710264</td><td> 49710264</td><td> 1</td></tr>\n",
       "\t<tr><th scope=row>4</th><td>rs12140153</td><td>1 </td><td> 62579891</td><td> 62579891</td><td> 1</td></tr>\n",
       "\t<tr><th scope=row>5</th><td>rs12147845</td><td>14</td><td>101144596</td><td>101144596</td><td>14</td></tr>\n",
       "</tbody>\n",
       "</table>\n"
      ],
      "text/latex": [
       "A data.frame: 5 × 5\n",
       "\\begin{tabular}{r|lllll}\n",
       "  & rsid & chromosome & position & position2 & chr\\\\\n",
       "  & <chr> & <chr> & <int> & <int> & <dbl>\\\\\n",
       "\\hline\n",
       "\t1 & rs12072739 & 1  &  98315893 &  98315893 &  1\\\\\n",
       "\t2 & rs12098284 & 10 &  76047464 &  76047464 & 10\\\\\n",
       "\t3 & rs12121950 & 1  &  49710264 &  49710264 &  1\\\\\n",
       "\t4 & rs12140153 & 1  &  62579891 &  62579891 &  1\\\\\n",
       "\t5 & rs12147845 & 14 & 101144596 & 101144596 & 14\\\\\n",
       "\\end{tabular}\n"
      ],
      "text/markdown": [
       "\n",
       "A data.frame: 5 × 5\n",
       "\n",
       "| <!--/--> | rsid &lt;chr&gt; | chromosome &lt;chr&gt; | position &lt;int&gt; | position2 &lt;int&gt; | chr &lt;dbl&gt; |\n",
       "|---|---|---|---|---|---|\n",
       "| 1 | rs12072739 | 1  |  98315893 |  98315893 |  1 |\n",
       "| 2 | rs12098284 | 10 |  76047464 |  76047464 | 10 |\n",
       "| 3 | rs12121950 | 1  |  49710264 |  49710264 |  1 |\n",
       "| 4 | rs12140153 | 1  |  62579891 |  62579891 |  1 |\n",
       "| 5 | rs12147845 | 14 | 101144596 | 101144596 | 14 |\n",
       "\n"
      ],
      "text/plain": [
       "  rsid       chromosome position  position2 chr\n",
       "1 rs12072739 1           98315893  98315893  1 \n",
       "2 rs12098284 10          76047464  76047464 10 \n",
       "3 rs12121950 1           49710264  49710264  1 \n",
       "4 rs12140153 1           62579891  62579891  1 \n",
       "5 rs12147845 14         101144596 101144596 14 "
      ]
     },
     "metadata": {},
     "output_type": "display_data"
    },
    {
     "data": {
      "text/html": [
       "<style>\n",
       ".list-inline {list-style: none; margin:0; padding: 0}\n",
       ".list-inline>li {display: inline-block}\n",
       ".list-inline>li:not(:last-child)::after {content: \"\\00b7\"; padding: 0 .5ex}\n",
       "</style>\n",
       "<ol class=list-inline><li>5</li><li>5</li></ol>\n"
      ],
      "text/latex": [
       "\\begin{enumerate*}\n",
       "\\item 5\n",
       "\\item 5\n",
       "\\end{enumerate*}\n"
      ],
      "text/markdown": [
       "1. 5\n",
       "2. 5\n",
       "\n",
       "\n"
      ],
      "text/plain": [
       "[1] 5 5"
      ]
     },
     "metadata": {},
     "output_type": "display_data"
    }
   ],
   "source": [
    "head(top)\n",
    "dim(top)"
   ]
  },
  {
   "cell_type": "code",
   "execution_count": 64,
   "id": "d0067ed2-945c-4748-96fc-24eb61e06ff5",
   "metadata": {},
   "outputs": [],
   "source": [
    "# Since this is an example, we will only use the top 5 hits\n",
    "top <- top[1:5,]"
   ]
  },
  {
   "cell_type": "code",
   "execution_count": 65,
   "id": "94e4d538-31fd-492e-a8d4-a3a5050ef7c5",
   "metadata": {},
   "outputs": [
    {
     "name": "stdout",
     "output_type": "stream",
     "text": [
      "[1] \"Locus 1 of 5\"\n",
      "[1] \"Locus 2 of 5\"\n",
      "[1] \"Locus 3 of 5\"\n",
      "[1] \"Locus 4 of 5\"\n",
      "[1] \"Locus 5 of 5\"\n"
     ]
    }
   ],
   "source": [
    "############# Extract full summary stats from the windows of interest\n",
    "\n",
    "vcfname <- paste0(\"coloc/VCF/BMI.vcf.bgz\")\n",
    "\n",
    "\n",
    "# Define the window length here\n",
    "window_length= 1e5 # 100kb\n",
    "\n",
    "# Extract the sumstats\n",
    "GWAS_associations <- GWAS_sumstats_extract(vcfname, top, window_length, output_path=\"GWAS_sumstats\")\n",
    "\n",
    "# save\n",
    "save(GWAS_associations, file = file.path(\"GWAS_sumstats/BMI.rda\"))\n"
   ]
  },
  {
   "cell_type": "code",
   "execution_count": 42,
   "id": "ba0903c5-f3ab-4cc8-822e-e9c9ad75933c",
   "metadata": {},
   "outputs": [],
   "source": [
    "# Load the data if already processed\n",
    "# load(file = file.path(\"GWAS_sumstats/BMI.rda\"))"
   ]
  },
  {
   "cell_type": "code",
   "execution_count": 17,
   "id": "7c128929-31fd-458e-ae31-b33be833656e",
   "metadata": {},
   "outputs": [
    {
     "data": {
      "text/html": [
       "<table class=\"dataframe\">\n",
       "<caption>A tibble: 6 × 11</caption>\n",
       "<thead>\n",
       "\t<tr><th scope=col>chr</th><th scope=col>position</th><th scope=col>beta</th><th scope=col>se</th><th scope=col>p</th><th scope=col>n</th><th scope=col>id</th><th scope=col>rsid</th><th scope=col>ea</th><th scope=col>nea</th><th scope=col>eaf</th></tr>\n",
       "\t<tr><th scope=col>&lt;fct&gt;</th><th scope=col>&lt;int&gt;</th><th scope=col>&lt;dbl&gt;</th><th scope=col>&lt;dbl&gt;</th><th scope=col>&lt;dbl&gt;</th><th scope=col>&lt;dbl&gt;</th><th scope=col>&lt;chr&gt;</th><th scope=col>&lt;chr&gt;</th><th scope=col>&lt;chr&gt;</th><th scope=col>&lt;chr&gt;</th><th scope=col>&lt;dbl&gt;</th></tr>\n",
       "</thead>\n",
       "<tbody>\n",
       "\t<tr><td>1</td><td>98216085</td><td> 0.0108</td><td>0.0041</td><td>8.289914e-03</td><td>806834</td><td>a</td><td>rs74108304</td><td>T</td><td>C</td><td>0.0567</td></tr>\n",
       "\t<tr><td>1</td><td>98218276</td><td>-0.0007</td><td>0.0022</td><td>7.558994e-01</td><td>806834</td><td>a</td><td>rs56202188</td><td>A</td><td>C</td><td>0.2751</td></tr>\n",
       "\t<tr><td>1</td><td>98218887</td><td> 0.0099</td><td>0.0041</td><td>1.472007e-02</td><td>806834</td><td>a</td><td>rs74108305</td><td>T</td><td>C</td><td>0.0581</td></tr>\n",
       "\t<tr><td>1</td><td>98220320</td><td>-0.0127</td><td>0.0031</td><td>5.226970e-05</td><td>806834</td><td>a</td><td>rs56012174</td><td>C</td><td>G</td><td>0.8959</td></tr>\n",
       "\t<tr><td>1</td><td>98227080</td><td>-0.0105</td><td>0.0024</td><td>9.646949e-06</td><td>806834</td><td>a</td><td>rs61786604</td><td>A</td><td>G</td><td>0.7976</td></tr>\n",
       "\t<tr><td>1</td><td>98230887</td><td>-0.0089</td><td>0.0021</td><td>2.577983e-05</td><td>806834</td><td>a</td><td>rs17378671</td><td>T</td><td>C</td><td>0.8012</td></tr>\n",
       "</tbody>\n",
       "</table>\n"
      ],
      "text/latex": [
       "A tibble: 6 × 11\n",
       "\\begin{tabular}{lllllllllll}\n",
       " chr & position & beta & se & p & n & id & rsid & ea & nea & eaf\\\\\n",
       " <fct> & <int> & <dbl> & <dbl> & <dbl> & <dbl> & <chr> & <chr> & <chr> & <chr> & <dbl>\\\\\n",
       "\\hline\n",
       "\t 1 & 98216085 &  0.0108 & 0.0041 & 8.289914e-03 & 806834 & a & rs74108304 & T & C & 0.0567\\\\\n",
       "\t 1 & 98218276 & -0.0007 & 0.0022 & 7.558994e-01 & 806834 & a & rs56202188 & A & C & 0.2751\\\\\n",
       "\t 1 & 98218887 &  0.0099 & 0.0041 & 1.472007e-02 & 806834 & a & rs74108305 & T & C & 0.0581\\\\\n",
       "\t 1 & 98220320 & -0.0127 & 0.0031 & 5.226970e-05 & 806834 & a & rs56012174 & C & G & 0.8959\\\\\n",
       "\t 1 & 98227080 & -0.0105 & 0.0024 & 9.646949e-06 & 806834 & a & rs61786604 & A & G & 0.7976\\\\\n",
       "\t 1 & 98230887 & -0.0089 & 0.0021 & 2.577983e-05 & 806834 & a & rs17378671 & T & C & 0.8012\\\\\n",
       "\\end{tabular}\n"
      ],
      "text/markdown": [
       "\n",
       "A tibble: 6 × 11\n",
       "\n",
       "| chr &lt;fct&gt; | position &lt;int&gt; | beta &lt;dbl&gt; | se &lt;dbl&gt; | p &lt;dbl&gt; | n &lt;dbl&gt; | id &lt;chr&gt; | rsid &lt;chr&gt; | ea &lt;chr&gt; | nea &lt;chr&gt; | eaf &lt;dbl&gt; |\n",
       "|---|---|---|---|---|---|---|---|---|---|---|\n",
       "| 1 | 98216085 |  0.0108 | 0.0041 | 8.289914e-03 | 806834 | a | rs74108304 | T | C | 0.0567 |\n",
       "| 1 | 98218276 | -0.0007 | 0.0022 | 7.558994e-01 | 806834 | a | rs56202188 | A | C | 0.2751 |\n",
       "| 1 | 98218887 |  0.0099 | 0.0041 | 1.472007e-02 | 806834 | a | rs74108305 | T | C | 0.0581 |\n",
       "| 1 | 98220320 | -0.0127 | 0.0031 | 5.226970e-05 | 806834 | a | rs56012174 | C | G | 0.8959 |\n",
       "| 1 | 98227080 | -0.0105 | 0.0024 | 9.646949e-06 | 806834 | a | rs61786604 | A | G | 0.7976 |\n",
       "| 1 | 98230887 | -0.0089 | 0.0021 | 2.577983e-05 | 806834 | a | rs17378671 | T | C | 0.8012 |\n",
       "\n"
      ],
      "text/plain": [
       "  chr position beta    se     p            n      id rsid       ea nea eaf   \n",
       "1 1   98216085  0.0108 0.0041 8.289914e-03 806834 a  rs74108304 T  C   0.0567\n",
       "2 1   98218276 -0.0007 0.0022 7.558994e-01 806834 a  rs56202188 A  C   0.2751\n",
       "3 1   98218887  0.0099 0.0041 1.472007e-02 806834 a  rs74108305 T  C   0.0581\n",
       "4 1   98220320 -0.0127 0.0031 5.226970e-05 806834 a  rs56012174 C  G   0.8959\n",
       "5 1   98227080 -0.0105 0.0024 9.646949e-06 806834 a  rs61786604 A  G   0.7976\n",
       "6 1   98230887 -0.0089 0.0021 2.577983e-05 806834 a  rs17378671 T  C   0.8012"
      ]
     },
     "metadata": {},
     "output_type": "display_data"
    }
   ],
   "source": [
    "head(GWAS_associations)"
   ]
  },
  {
   "cell_type": "code",
   "execution_count": 19,
   "id": "cb130143-f0ee-4b38-a116-55312f5dc81a",
   "metadata": {},
   "outputs": [],
   "source": [
    "dir.create(\"coloc/QTL_sumstats\")"
   ]
  },
  {
   "cell_type": "code",
   "execution_count": 66,
   "id": "20839250-c42f-442f-8bd8-753b839605e1",
   "metadata": {},
   "outputs": [
    {
     "name": "stdout",
     "output_type": "stream",
     "text": [
      "[1] \"Loading QTL and creating window around lead variant for GCST009004\"\n",
      "[1] \"Extracting full QTL sumstats in overlapping window for GCST009004\"\n"
     ]
    }
   ],
   "source": [
    "############### Now we create a window around the QTL lead variants and find the QTL windows that overlap the GWAS windows\n",
    "# 20 peer factors + 5 PCA\n",
    "print(paste0(\"Loading QTL and creating window around lead variant for \", GWAS_ID))\n",
    "PATH_IN_M = \"/lustre/groups/itg/teams/zeggini/projects/child_diabesity/analysis/methyl/fastQTL/Results/peer20_PCA5/Results/\"\n",
    "\n",
    "\n",
    "# Get the most significant SNP per methylation site \n",
    "mqtl <- fread(file.path(PATH_IN_M, \"fastqtl_perm_ALLchr.genes.txt.gz\"), header=TRUE, data.table=FALSE, tmpdir=\"temp\") # gene_id, variant_id, qval\n",
    "\n",
    "# Filter for qval < 0.05\n",
    "mqtl <- mqtl[mqtl$qval < 0.05,]\n",
    "\n",
    "mqtl_g <- left_join(mqtl,\n",
    "                    SNP_POS,\n",
    "                    by = c(\"variant_id\"=\"ID\"))\n",
    "\n",
    "\n",
    "# Create QTL windows \n",
    " mqtl_g <- mqtl_g %>%\n",
    "                mutate(mqtl_start_coord = pos - window_length,\n",
    "                mqtl_end_coord = pos + window_length)\n",
    "    \n",
    "    \n",
    " # Find overlap between the QTL and GWAS windows\n",
    "top_tmp <- top\n",
    "top_tmp$position2 <- top_tmp$position\n",
    "top_tmp$chr <- as.numeric(as.character(top_tmp$chr))\n",
    "\n",
    "setDT(mqtl_g)  \n",
    "setDT(top_tmp)  \n",
    "setkey(mqtl_g, \"chr\", \"mqtl_start_coord\", \"mqtl_end_coord\")\n",
    "setkey(top_tmp, \"chr\", \"position\", \"position2\")\n",
    "\n",
    "\n",
    "mqtl_g_subset<-foverlaps(mqtl_g, top_tmp, type=\"any\", nomatch=NULL, mult=\"all\")\n",
    "\n",
    "top <- as.data.frame(top_tmp)\n",
    "\n",
    "fwrite(data.frame(CpG=unique(mqtl_g_subset$gene_id)), paste0(\"coloc/QTL_sumstats/mqtl_GWAS_uniqueCpG_overlap_\",GWAS_ID,\".txt\"), sep=\"\\t\")\n",
    "\n",
    "# Extract the full summary stats for this set of CpGs. The full data would be too big\n",
    "print(paste0(\"Extracting full QTL sumstats in overlapping window for \", GWAS_ID))\n",
    "system(paste0(\"zcat \", PATH_IN_M, \"/fastqtl_ALLchr_qtlmsite.txt.gz | head -n1 > \",\n",
    "                paste0(\"coloc/QTL_sumstats/mqtl_GWAS_overlappingSNPs_\",GWAS_ID,\".txt; \"),\n",
    "                \"zgrep -w -f \",\n",
    "                  paste0(\"coloc/QTL_sumstats/mqtl_GWAS_uniqueCpG_overlap_\",GWAS_ID,\".txt \"),\n",
    "                  PATH_IN_M, \"/fastqtl_ALLchr_qtlmsite.txt.gz >> \",\n",
    "                  paste0(\"coloc/QTL_sumstats/mqtl_GWAS_overlappingSNPs_\",GWAS_ID,\".txt\")))\n",
    "\n",
    "\n"
   ]
  },
  {
   "cell_type": "code",
   "execution_count": 21,
   "id": "7da27f66-c531-42fb-a146-196eb521c9c4",
   "metadata": {},
   "outputs": [
    {
     "data": {
      "text/html": [
       "<style>\n",
       ".list-inline {list-style: none; margin:0; padding: 0}\n",
       ".list-inline>li {display: inline-block}\n",
       ".list-inline>li:not(:last-child)::after {content: \"\\00b7\"; padding: 0 .5ex}\n",
       "</style>\n",
       "<ol class=list-inline><li>'mqtl_GWAS_overlappingSNPs_GCST009004.txt'</li><li>'mqtl_GWAS_uniqueCpG_overlap_GCST009004.txt'</li></ol>\n"
      ],
      "text/latex": [
       "\\begin{enumerate*}\n",
       "\\item 'mqtl\\_GWAS\\_overlappingSNPs\\_GCST009004.txt'\n",
       "\\item 'mqtl\\_GWAS\\_uniqueCpG\\_overlap\\_GCST009004.txt'\n",
       "\\end{enumerate*}\n"
      ],
      "text/markdown": [
       "1. 'mqtl_GWAS_overlappingSNPs_GCST009004.txt'\n",
       "2. 'mqtl_GWAS_uniqueCpG_overlap_GCST009004.txt'\n",
       "\n",
       "\n"
      ],
      "text/plain": [
       "[1] \"mqtl_GWAS_overlappingSNPs_GCST009004.txt\"  \n",
       "[2] \"mqtl_GWAS_uniqueCpG_overlap_GCST009004.txt\""
      ]
     },
     "metadata": {},
     "output_type": "display_data"
    }
   ],
   "source": [
    "list.files(\"coloc/QTL_sumstats\")"
   ]
  },
  {
   "cell_type": "code",
   "execution_count": null,
   "id": "ab402a29-ae40-4f96-ae3a-8a3f967dbc80",
   "metadata": {},
   "outputs": [],
   "source": [
    "###################################################################\n",
    "####  CODE FROM ANA TO EXTRACT THE SUMSTATS FROM PARQUET FILES\n",
    "###################################################################\n",
    "\n",
    "# Extract the full summary stats for this set of traits. The full data would be too big\n",
    "print(paste0(\"Extracting full QTL sumstats in overlapping window for \",\n",
    "                 length(unique(mqtl_g_subset$gene_id)),\n",
    "                \" traits for GWAS ID \", GWAS_ID))\n",
    "      \n",
    "tmp.dt <- data.table()\n",
    "for(c in seq(1,22)){\n",
    "    print(c)\n",
    "    qtl <- as.data.table(arrow::read_parquet(paste0(PATH_IN_M, \"cis_qtl_pairs.chr\", c, \".parquet\")))\n",
    "    qtl <- qtl[phenotype_id %in% unique(mqtl_g_subset$gene_id)]\n",
    "    if(nrow(qtl)==0) next\n",
    "    qtl[, c(\"chr\", \"pos\", \"REF\", \"ALT\", \"rsid\"):=tstrsplit(variant_id, \"_\")]\n",
    "    qtl[, maf:=ifelse(af<0.5, af, 1-af)]\n",
    "    qtl[, pos:=as.integer(pos)]\n",
    "    qtl[, chr:=as.integer(sub(\"chr\", \"\", chr))]\n",
    "    qtl[, gene_id:=phenotype_id]\n",
    "    qtl <- qtl[rsid!=\".\"]\n",
    "    tmp.dt <- rbind(tmp.dt, qtl)\n",
    "}\n",
    "rm(qtl)\n",
    "fwrite(tmp.dt, paste0(\"coloc/QTL_sumstats/mqtl_GWAS_overlappingSNPs_\",GWAS_ID,\".txt\"))\n",
    "\n",
    "      "
   ]
  },
  {
   "cell_type": "code",
   "execution_count": 22,
   "id": "fea882d4-ab2d-4767-8569-bf3a2e82c6ea",
   "metadata": {},
   "outputs": [
    {
     "name": "stderr",
     "output_type": "stream",
     "text": [
      "Warning message in rm(tmp.dt):\n",
      "“object 'tmp.dt' not found”\n"
     ]
    },
    {
     "data": {
      "text/html": [
       "<table class=\"dataframe\">\n",
       "<caption>A matrix: 2 × 6 of type dbl</caption>\n",
       "<thead>\n",
       "\t<tr><th></th><th scope=col>used</th><th scope=col>(Mb)</th><th scope=col>gc trigger</th><th scope=col>(Mb)</th><th scope=col>max used</th><th scope=col>(Mb)</th></tr>\n",
       "</thead>\n",
       "<tbody>\n",
       "\t<tr><th scope=row>Ncells</th><td> 81042209</td><td>4328.2</td><td> 126679657</td><td> 6765.5</td><td> 126679657</td><td> 6765.5</td></tr>\n",
       "\t<tr><th scope=row>Vcells</th><td>781793613</td><td>5964.7</td><td>1694957434</td><td>12931.5</td><td>1399784683</td><td>10679.6</td></tr>\n",
       "</tbody>\n",
       "</table>\n"
      ],
      "text/latex": [
       "A matrix: 2 × 6 of type dbl\n",
       "\\begin{tabular}{r|llllll}\n",
       "  & used & (Mb) & gc trigger & (Mb) & max used & (Mb)\\\\\n",
       "\\hline\n",
       "\tNcells &  81042209 & 4328.2 &  126679657 &  6765.5 &  126679657 &  6765.5\\\\\n",
       "\tVcells & 781793613 & 5964.7 & 1694957434 & 12931.5 & 1399784683 & 10679.6\\\\\n",
       "\\end{tabular}\n"
      ],
      "text/markdown": [
       "\n",
       "A matrix: 2 × 6 of type dbl\n",
       "\n",
       "| <!--/--> | used | (Mb) | gc trigger | (Mb) | max used | (Mb) |\n",
       "|---|---|---|---|---|---|---|\n",
       "| Ncells |  81042209 | 4328.2 |  126679657 |  6765.5 |  126679657 |  6765.5 |\n",
       "| Vcells | 781793613 | 5964.7 | 1694957434 | 12931.5 | 1399784683 | 10679.6 |\n",
       "\n"
      ],
      "text/plain": [
       "       used      (Mb)   gc trigger (Mb)    max used   (Mb)   \n",
       "Ncells  81042209 4328.2  126679657  6765.5  126679657  6765.5\n",
       "Vcells 781793613 5964.7 1694957434 12931.5 1399784683 10679.6"
      ]
     },
     "metadata": {},
     "output_type": "display_data"
    }
   ],
   "source": [
    "# Clean up and clear some memory\n",
    "rm(mqtl)\n",
    "rm(tmp.dt)\n",
    "rm(mqtl_g_subset)\n",
    "gc()\n",
    "      "
   ]
  },
  {
   "cell_type": "code",
   "execution_count": 67,
   "id": "ae360baf-3239-4644-91c8-a0cf8cf62a4d",
   "metadata": {},
   "outputs": [
    {
     "name": "stdout",
     "output_type": "stream",
     "text": [
      "[1] \"Preparing GWAS genomic ranges for GCST009004\"\n"
     ]
    }
   ],
   "source": [
    "# prepare GWAS genomic ranges\n",
    "print(paste0(\"Preparing GWAS genomic ranges for \", GWAS_ID))\n",
    "GWAS_signals_coloc = prepare_gwas_sig(in_gwas_signals = top, \n",
    "                                           in_mb_dist = window_length)\n",
    "      \n",
    "      \n",
    "      "
   ]
  },
  {
   "cell_type": "code",
   "execution_count": 68,
   "id": "c4c9f649-f6ea-44dd-8ebb-d74665fb3131",
   "metadata": {},
   "outputs": [],
   "source": [
    "# Load QTL full summary stats for the selected QTLs\n",
    "mqtl_df <- fread(paste0(\"coloc/QTL_sumstats/mqtl_GWAS_overlappingSNPs_\",GWAS_ID,\".txt\"), data.table=FALSE)\n"
   ]
  },
  {
   "cell_type": "code",
   "execution_count": 69,
   "id": "13cb4a86-bf04-4b9e-ad98-634cf7acce80",
   "metadata": {},
   "outputs": [],
   "source": [
    "# Annotate the QTL features with genomic coordinates\n",
    "mqtl_df <- mqtl_df %>%\n",
    "                 left_join(.,\n",
    "                 SNP_POS,\n",
    "                 by = c(\"variant_id\"=\"ID\")) %>%\n",
    "                 mutate(start = pos - window_length,\n",
    "                  end = pos + window_length)"
   ]
  },
  {
   "cell_type": "code",
   "execution_count": 26,
   "id": "7d301455-5e0a-4b1b-8f4e-0137d775887e",
   "metadata": {},
   "outputs": [
    {
     "data": {
      "text/html": [
       "<table class=\"dataframe\">\n",
       "<caption>A data.frame: 6 × 35</caption>\n",
       "<thead>\n",
       "\t<tr><th></th><th scope=col>gene_id</th><th scope=col>variant_id</th><th scope=col>tss_distance</th><th scope=col>ma_samples</th><th scope=col>ma_count</th><th scope=col>maf</th><th scope=col>pval_nominal</th><th scope=col>slope</th><th scope=col>slope_se</th><th scope=col>PERM_num_var</th><th scope=col>⋯</th><th scope=col>PERM_qval</th><th scope=col>PERM_pval_nominal_threshold</th><th scope=col>qtl_msite</th><th scope=col>qtl_msite_variant</th><th scope=col>chr</th><th scope=col>pos</th><th scope=col>REF</th><th scope=col>ALT</th><th scope=col>start</th><th scope=col>end</th></tr>\n",
       "\t<tr><th></th><th scope=col>&lt;chr&gt;</th><th scope=col>&lt;chr&gt;</th><th scope=col>&lt;int&gt;</th><th scope=col>&lt;int&gt;</th><th scope=col>&lt;int&gt;</th><th scope=col>&lt;dbl&gt;</th><th scope=col>&lt;dbl&gt;</th><th scope=col>&lt;dbl&gt;</th><th scope=col>&lt;dbl&gt;</th><th scope=col>&lt;int&gt;</th><th scope=col>⋯</th><th scope=col>&lt;dbl&gt;</th><th scope=col>&lt;dbl&gt;</th><th scope=col>&lt;int&gt;</th><th scope=col>&lt;int&gt;</th><th scope=col>&lt;int&gt;</th><th scope=col>&lt;int&gt;</th><th scope=col>&lt;chr&gt;</th><th scope=col>&lt;chr&gt;</th><th scope=col>&lt;dbl&gt;</th><th scope=col>&lt;dbl&gt;</th></tr>\n",
       "</thead>\n",
       "<tbody>\n",
       "\t<tr><th scope=row>1</th><td>cg07217846</td><td>rs823385  </td><td>-999309</td><td>186</td><td>231</td><td>0.401042</td><td>0.9536340</td><td> 0.00427193</td><td>0.0733996</td><td>2316</td><td>⋯</td><td>3.66558e-45</td><td>0.000221246</td><td>1</td><td>0</td><td>1</td><td>48514499</td><td>C</td><td>T</td><td>48414499</td><td>48614499</td></tr>\n",
       "\t<tr><th scope=row>2</th><td>cg07217846</td><td>rs692931  </td><td>-998845</td><td>200</td><td>244</td><td>0.423611</td><td>0.1070560</td><td> 0.12463100</td><td>0.0770643</td><td>2316</td><td>⋯</td><td>3.66558e-45</td><td>0.000221246</td><td>1</td><td>0</td><td>1</td><td>48514963</td><td>G</td><td>A</td><td>48414963</td><td>48614963</td></tr>\n",
       "\t<tr><th scope=row>3</th><td>cg07217846</td><td>rs564986  </td><td>-998709</td><td>186</td><td>230</td><td>0.399306</td><td>0.9846780</td><td>-0.00141191</td><td>0.0734503</td><td>2316</td><td>⋯</td><td>3.66558e-45</td><td>0.000221246</td><td>1</td><td>0</td><td>1</td><td>48515099</td><td>A</td><td>G</td><td>48415099</td><td>48615099</td></tr>\n",
       "\t<tr><th scope=row>4</th><td>cg07217846</td><td>rs12042708</td><td>-998525</td><td> 75</td><td> 82</td><td>0.142361</td><td>0.0676485</td><td>-0.17963900</td><td>0.0978913</td><td>2316</td><td>⋯</td><td>3.66558e-45</td><td>0.000221246</td><td>1</td><td>0</td><td>1</td><td>48515283</td><td>C</td><td>T</td><td>48415283</td><td>48615283</td></tr>\n",
       "\t<tr><th scope=row>5</th><td>cg07217846</td><td>rs59741549</td><td>-998455</td><td> 74</td><td> 81</td><td>0.140625</td><td>0.0623220</td><td>-0.18406800</td><td>0.0983195</td><td>2316</td><td>⋯</td><td>3.66558e-45</td><td>0.000221246</td><td>1</td><td>0</td><td>1</td><td>48515353</td><td>A</td><td>G</td><td>48415353</td><td>48615353</td></tr>\n",
       "\t<tr><th scope=row>6</th><td>cg07217846</td><td>rs17104087</td><td>-998431</td><td> 74</td><td> 81</td><td>0.140625</td><td>0.0623220</td><td>-0.18406800</td><td>0.0983195</td><td>2316</td><td>⋯</td><td>3.66558e-45</td><td>0.000221246</td><td>1</td><td>0</td><td>1</td><td>48515377</td><td>A</td><td>G</td><td>48415377</td><td>48615377</td></tr>\n",
       "</tbody>\n",
       "</table>\n"
      ],
      "text/latex": [
       "A data.frame: 6 × 35\n",
       "\\begin{tabular}{r|lllllllllllllllllllll}\n",
       "  & gene\\_id & variant\\_id & tss\\_distance & ma\\_samples & ma\\_count & maf & pval\\_nominal & slope & slope\\_se & PERM\\_num\\_var & ⋯ & PERM\\_qval & PERM\\_pval\\_nominal\\_threshold & qtl\\_msite & qtl\\_msite\\_variant & chr & pos & REF & ALT & start & end\\\\\n",
       "  & <chr> & <chr> & <int> & <int> & <int> & <dbl> & <dbl> & <dbl> & <dbl> & <int> & ⋯ & <dbl> & <dbl> & <int> & <int> & <int> & <int> & <chr> & <chr> & <dbl> & <dbl>\\\\\n",
       "\\hline\n",
       "\t1 & cg07217846 & rs823385   & -999309 & 186 & 231 & 0.401042 & 0.9536340 &  0.00427193 & 0.0733996 & 2316 & ⋯ & 3.66558e-45 & 0.000221246 & 1 & 0 & 1 & 48514499 & C & T & 48414499 & 48614499\\\\\n",
       "\t2 & cg07217846 & rs692931   & -998845 & 200 & 244 & 0.423611 & 0.1070560 &  0.12463100 & 0.0770643 & 2316 & ⋯ & 3.66558e-45 & 0.000221246 & 1 & 0 & 1 & 48514963 & G & A & 48414963 & 48614963\\\\\n",
       "\t3 & cg07217846 & rs564986   & -998709 & 186 & 230 & 0.399306 & 0.9846780 & -0.00141191 & 0.0734503 & 2316 & ⋯ & 3.66558e-45 & 0.000221246 & 1 & 0 & 1 & 48515099 & A & G & 48415099 & 48615099\\\\\n",
       "\t4 & cg07217846 & rs12042708 & -998525 &  75 &  82 & 0.142361 & 0.0676485 & -0.17963900 & 0.0978913 & 2316 & ⋯ & 3.66558e-45 & 0.000221246 & 1 & 0 & 1 & 48515283 & C & T & 48415283 & 48615283\\\\\n",
       "\t5 & cg07217846 & rs59741549 & -998455 &  74 &  81 & 0.140625 & 0.0623220 & -0.18406800 & 0.0983195 & 2316 & ⋯ & 3.66558e-45 & 0.000221246 & 1 & 0 & 1 & 48515353 & A & G & 48415353 & 48615353\\\\\n",
       "\t6 & cg07217846 & rs17104087 & -998431 &  74 &  81 & 0.140625 & 0.0623220 & -0.18406800 & 0.0983195 & 2316 & ⋯ & 3.66558e-45 & 0.000221246 & 1 & 0 & 1 & 48515377 & A & G & 48415377 & 48615377\\\\\n",
       "\\end{tabular}\n"
      ],
      "text/markdown": [
       "\n",
       "A data.frame: 6 × 35\n",
       "\n",
       "| <!--/--> | gene_id &lt;chr&gt; | variant_id &lt;chr&gt; | tss_distance &lt;int&gt; | ma_samples &lt;int&gt; | ma_count &lt;int&gt; | maf &lt;dbl&gt; | pval_nominal &lt;dbl&gt; | slope &lt;dbl&gt; | slope_se &lt;dbl&gt; | PERM_num_var &lt;int&gt; | ⋯ ⋯ | PERM_qval &lt;dbl&gt; | PERM_pval_nominal_threshold &lt;dbl&gt; | qtl_msite &lt;int&gt; | qtl_msite_variant &lt;int&gt; | chr &lt;int&gt; | pos &lt;int&gt; | REF &lt;chr&gt; | ALT &lt;chr&gt; | start &lt;dbl&gt; | end &lt;dbl&gt; |\n",
       "|---|---|---|---|---|---|---|---|---|---|---|---|---|---|---|---|---|---|---|---|---|---|\n",
       "| 1 | cg07217846 | rs823385   | -999309 | 186 | 231 | 0.401042 | 0.9536340 |  0.00427193 | 0.0733996 | 2316 | ⋯ | 3.66558e-45 | 0.000221246 | 1 | 0 | 1 | 48514499 | C | T | 48414499 | 48614499 |\n",
       "| 2 | cg07217846 | rs692931   | -998845 | 200 | 244 | 0.423611 | 0.1070560 |  0.12463100 | 0.0770643 | 2316 | ⋯ | 3.66558e-45 | 0.000221246 | 1 | 0 | 1 | 48514963 | G | A | 48414963 | 48614963 |\n",
       "| 3 | cg07217846 | rs564986   | -998709 | 186 | 230 | 0.399306 | 0.9846780 | -0.00141191 | 0.0734503 | 2316 | ⋯ | 3.66558e-45 | 0.000221246 | 1 | 0 | 1 | 48515099 | A | G | 48415099 | 48615099 |\n",
       "| 4 | cg07217846 | rs12042708 | -998525 |  75 |  82 | 0.142361 | 0.0676485 | -0.17963900 | 0.0978913 | 2316 | ⋯ | 3.66558e-45 | 0.000221246 | 1 | 0 | 1 | 48515283 | C | T | 48415283 | 48615283 |\n",
       "| 5 | cg07217846 | rs59741549 | -998455 |  74 |  81 | 0.140625 | 0.0623220 | -0.18406800 | 0.0983195 | 2316 | ⋯ | 3.66558e-45 | 0.000221246 | 1 | 0 | 1 | 48515353 | A | G | 48415353 | 48615353 |\n",
       "| 6 | cg07217846 | rs17104087 | -998431 |  74 |  81 | 0.140625 | 0.0623220 | -0.18406800 | 0.0983195 | 2316 | ⋯ | 3.66558e-45 | 0.000221246 | 1 | 0 | 1 | 48515377 | A | G | 48415377 | 48615377 |\n",
       "\n"
      ],
      "text/plain": [
       "  gene_id    variant_id tss_distance ma_samples ma_count maf      pval_nominal\n",
       "1 cg07217846 rs823385   -999309      186        231      0.401042 0.9536340   \n",
       "2 cg07217846 rs692931   -998845      200        244      0.423611 0.1070560   \n",
       "3 cg07217846 rs564986   -998709      186        230      0.399306 0.9846780   \n",
       "4 cg07217846 rs12042708 -998525       75         82      0.142361 0.0676485   \n",
       "5 cg07217846 rs59741549 -998455       74         81      0.140625 0.0623220   \n",
       "6 cg07217846 rs17104087 -998431       74         81      0.140625 0.0623220   \n",
       "  slope       slope_se  PERM_num_var ⋯ PERM_qval   PERM_pval_nominal_threshold\n",
       "1  0.00427193 0.0733996 2316         ⋯ 3.66558e-45 0.000221246                \n",
       "2  0.12463100 0.0770643 2316         ⋯ 3.66558e-45 0.000221246                \n",
       "3 -0.00141191 0.0734503 2316         ⋯ 3.66558e-45 0.000221246                \n",
       "4 -0.17963900 0.0978913 2316         ⋯ 3.66558e-45 0.000221246                \n",
       "5 -0.18406800 0.0983195 2316         ⋯ 3.66558e-45 0.000221246                \n",
       "6 -0.18406800 0.0983195 2316         ⋯ 3.66558e-45 0.000221246                \n",
       "  qtl_msite qtl_msite_variant chr pos      REF ALT start    end     \n",
       "1 1         0                 1   48514499 C   T   48414499 48614499\n",
       "2 1         0                 1   48514963 G   A   48414963 48614963\n",
       "3 1         0                 1   48515099 A   G   48415099 48615099\n",
       "4 1         0                 1   48515283 C   T   48415283 48615283\n",
       "5 1         0                 1   48515353 A   G   48415353 48615353\n",
       "6 1         0                 1   48515377 A   G   48415377 48615377"
      ]
     },
     "metadata": {},
     "output_type": "display_data"
    }
   ],
   "source": [
    "head(mqtl_df)"
   ]
  },
  {
   "cell_type": "code",
   "execution_count": 27,
   "id": "05cf3f7d-a30a-4907-99b8-7e6703930287",
   "metadata": {},
   "outputs": [
    {
     "data": {
      "text/html": [
       "<table class=\"dataframe\">\n",
       "<caption>A data.frame: 6 × 25</caption>\n",
       "<thead>\n",
       "\t<tr><th></th><th scope=col>variant</th><th scope=col>chr</th><th scope=col>pos</th><th scope=col>ref</th><th scope=col>alt</th><th scope=col>rsid</th><th scope=col>varid</th><th scope=col>consequence</th><th scope=col>consequence_category</th><th scope=col>info</th><th scope=col>⋯</th><th scope=col>p_hwe</th><th scope=col>n_called</th><th scope=col>n_not_called</th><th scope=col>n_hom_ref</th><th scope=col>n_het</th><th scope=col>n_hom_var</th><th scope=col>n_non_ref</th><th scope=col>r_heterozygosity</th><th scope=col>r_het_hom_var</th><th scope=col>r_expected_het_frequency</th></tr>\n",
       "\t<tr><th></th><th scope=col>&lt;chr&gt;</th><th scope=col>&lt;chr&gt;</th><th scope=col>&lt;int&gt;</th><th scope=col>&lt;chr&gt;</th><th scope=col>&lt;chr&gt;</th><th scope=col>&lt;chr&gt;</th><th scope=col>&lt;chr&gt;</th><th scope=col>&lt;chr&gt;</th><th scope=col>&lt;chr&gt;</th><th scope=col>&lt;dbl&gt;</th><th scope=col>⋯</th><th scope=col>&lt;dbl&gt;</th><th scope=col>&lt;int&gt;</th><th scope=col>&lt;int&gt;</th><th scope=col>&lt;int&gt;</th><th scope=col>&lt;int&gt;</th><th scope=col>&lt;int&gt;</th><th scope=col>&lt;int&gt;</th><th scope=col>&lt;dbl&gt;</th><th scope=col>&lt;dbl&gt;</th><th scope=col>&lt;dbl&gt;</th></tr>\n",
       "</thead>\n",
       "<tbody>\n",
       "\t<tr><th scope=row>1</th><td>1:15791:C:T  </td><td>1</td><td> 15791</td><td>C </td><td>T</td><td>rs547522712  </td><td>1:15791_C_T  </td><td>splice_region_variant</td><td>missense  </td><td>0.861678</td><td>⋯</td><td>0.5000000</td><td>361194</td><td>0</td><td>361194</td><td>    0</td><td>   0</td><td>    0</td><td>0.00000e+00</td><td>     NA</td><td>0.00000e+00</td></tr>\n",
       "\t<tr><th scope=row>2</th><td>1:69487:G:A  </td><td>1</td><td> 69487</td><td>G </td><td>A</td><td>rs568226429  </td><td>1:69487_G_A  </td><td>missense_variant     </td><td>missense  </td><td>0.956975</td><td>⋯</td><td>0.5000040</td><td>361194</td><td>0</td><td>361190</td><td>    4</td><td>   0</td><td>    4</td><td>1.10744e-05</td><td>     NA</td><td>1.10743e-05</td></tr>\n",
       "\t<tr><th scope=row>3</th><td>1:69569:T:C  </td><td>1</td><td> 69569</td><td>T </td><td>C</td><td>rs2531267    </td><td>1:69569_T_C  </td><td>missense_variant     </td><td>missense  </td><td>0.831664</td><td>⋯</td><td>0.5063150</td><td>361194</td><td>0</td><td>361058</td><td>  136</td><td>   0</td><td>  136</td><td>3.76529e-04</td><td>     NA</td><td>3.76459e-04</td></tr>\n",
       "\t<tr><th scope=row>4</th><td>1:139853:C:T </td><td>1</td><td>139853</td><td>C </td><td>T</td><td>rs533633326  </td><td>1:139853_C_T </td><td>splice_region_variant</td><td>missense  </td><td>0.985255</td><td>⋯</td><td>0.5000040</td><td>361194</td><td>0</td><td>361190</td><td>    4</td><td>   0</td><td>    4</td><td>1.10744e-05</td><td>     NA</td><td>1.10743e-05</td></tr>\n",
       "\t<tr><th scope=row>5</th><td>1:692794:CA:C</td><td>1</td><td>692794</td><td>CA</td><td>C</td><td>1:692794_CA_C</td><td>1:692794_CA_C</td><td>upstream_gene_variant</td><td>non_coding</td><td>0.824483</td><td>⋯</td><td>0.0314373</td><td>361188</td><td>6</td><td>286823</td><td>70224</td><td>4141</td><td>74365</td><td>1.94425e-01</td><td>16.9582</td><td>1.93734e-01</td></tr>\n",
       "\t<tr><th scope=row>6</th><td>1:693731:A:G </td><td>1</td><td>693731</td><td>A </td><td>G</td><td>rs12238997   </td><td>1:693731_A_G </td><td>upstream_gene_variant</td><td>non_coding</td><td>0.875969</td><td>⋯</td><td>0.1641640</td><td>361192</td><td>2</td><td>281659</td><td>74692</td><td>4841</td><td>79533</td><td>2.06793e-01</td><td>15.4290</td><td>2.06315e-01</td></tr>\n",
       "</tbody>\n",
       "</table>\n"
      ],
      "text/latex": [
       "A data.frame: 6 × 25\n",
       "\\begin{tabular}{r|lllllllllllllllllllll}\n",
       "  & variant & chr & pos & ref & alt & rsid & varid & consequence & consequence\\_category & info & ⋯ & p\\_hwe & n\\_called & n\\_not\\_called & n\\_hom\\_ref & n\\_het & n\\_hom\\_var & n\\_non\\_ref & r\\_heterozygosity & r\\_het\\_hom\\_var & r\\_expected\\_het\\_frequency\\\\\n",
       "  & <chr> & <chr> & <int> & <chr> & <chr> & <chr> & <chr> & <chr> & <chr> & <dbl> & ⋯ & <dbl> & <int> & <int> & <int> & <int> & <int> & <int> & <dbl> & <dbl> & <dbl>\\\\\n",
       "\\hline\n",
       "\t1 & 1:15791:C:T   & 1 &  15791 & C  & T & rs547522712   & 1:15791\\_C\\_T   & splice\\_region\\_variant & missense   & 0.861678 & ⋯ & 0.5000000 & 361194 & 0 & 361194 &     0 &    0 &     0 & 0.00000e+00 &      NA & 0.00000e+00\\\\\n",
       "\t2 & 1:69487:G:A   & 1 &  69487 & G  & A & rs568226429   & 1:69487\\_G\\_A   & missense\\_variant      & missense   & 0.956975 & ⋯ & 0.5000040 & 361194 & 0 & 361190 &     4 &    0 &     4 & 1.10744e-05 &      NA & 1.10743e-05\\\\\n",
       "\t3 & 1:69569:T:C   & 1 &  69569 & T  & C & rs2531267     & 1:69569\\_T\\_C   & missense\\_variant      & missense   & 0.831664 & ⋯ & 0.5063150 & 361194 & 0 & 361058 &   136 &    0 &   136 & 3.76529e-04 &      NA & 3.76459e-04\\\\\n",
       "\t4 & 1:139853:C:T  & 1 & 139853 & C  & T & rs533633326   & 1:139853\\_C\\_T  & splice\\_region\\_variant & missense   & 0.985255 & ⋯ & 0.5000040 & 361194 & 0 & 361190 &     4 &    0 &     4 & 1.10744e-05 &      NA & 1.10743e-05\\\\\n",
       "\t5 & 1:692794:CA:C & 1 & 692794 & CA & C & 1:692794\\_CA\\_C & 1:692794\\_CA\\_C & upstream\\_gene\\_variant & non\\_coding & 0.824483 & ⋯ & 0.0314373 & 361188 & 6 & 286823 & 70224 & 4141 & 74365 & 1.94425e-01 & 16.9582 & 1.93734e-01\\\\\n",
       "\t6 & 1:693731:A:G  & 1 & 693731 & A  & G & rs12238997    & 1:693731\\_A\\_G  & upstream\\_gene\\_variant & non\\_coding & 0.875969 & ⋯ & 0.1641640 & 361192 & 2 & 281659 & 74692 & 4841 & 79533 & 2.06793e-01 & 15.4290 & 2.06315e-01\\\\\n",
       "\\end{tabular}\n"
      ],
      "text/markdown": [
       "\n",
       "A data.frame: 6 × 25\n",
       "\n",
       "| <!--/--> | variant &lt;chr&gt; | chr &lt;chr&gt; | pos &lt;int&gt; | ref &lt;chr&gt; | alt &lt;chr&gt; | rsid &lt;chr&gt; | varid &lt;chr&gt; | consequence &lt;chr&gt; | consequence_category &lt;chr&gt; | info &lt;dbl&gt; | ⋯ ⋯ | p_hwe &lt;dbl&gt; | n_called &lt;int&gt; | n_not_called &lt;int&gt; | n_hom_ref &lt;int&gt; | n_het &lt;int&gt; | n_hom_var &lt;int&gt; | n_non_ref &lt;int&gt; | r_heterozygosity &lt;dbl&gt; | r_het_hom_var &lt;dbl&gt; | r_expected_het_frequency &lt;dbl&gt; |\n",
       "|---|---|---|---|---|---|---|---|---|---|---|---|---|---|---|---|---|---|---|---|---|---|\n",
       "| 1 | 1:15791:C:T   | 1 |  15791 | C  | T | rs547522712   | 1:15791_C_T   | splice_region_variant | missense   | 0.861678 | ⋯ | 0.5000000 | 361194 | 0 | 361194 |     0 |    0 |     0 | 0.00000e+00 |      NA | 0.00000e+00 |\n",
       "| 2 | 1:69487:G:A   | 1 |  69487 | G  | A | rs568226429   | 1:69487_G_A   | missense_variant      | missense   | 0.956975 | ⋯ | 0.5000040 | 361194 | 0 | 361190 |     4 |    0 |     4 | 1.10744e-05 |      NA | 1.10743e-05 |\n",
       "| 3 | 1:69569:T:C   | 1 |  69569 | T  | C | rs2531267     | 1:69569_T_C   | missense_variant      | missense   | 0.831664 | ⋯ | 0.5063150 | 361194 | 0 | 361058 |   136 |    0 |   136 | 3.76529e-04 |      NA | 3.76459e-04 |\n",
       "| 4 | 1:139853:C:T  | 1 | 139853 | C  | T | rs533633326   | 1:139853_C_T  | splice_region_variant | missense   | 0.985255 | ⋯ | 0.5000040 | 361194 | 0 | 361190 |     4 |    0 |     4 | 1.10744e-05 |      NA | 1.10743e-05 |\n",
       "| 5 | 1:692794:CA:C | 1 | 692794 | CA | C | 1:692794_CA_C | 1:692794_CA_C | upstream_gene_variant | non_coding | 0.824483 | ⋯ | 0.0314373 | 361188 | 6 | 286823 | 70224 | 4141 | 74365 | 1.94425e-01 | 16.9582 | 1.93734e-01 |\n",
       "| 6 | 1:693731:A:G  | 1 | 693731 | A  | G | rs12238997    | 1:693731_A_G  | upstream_gene_variant | non_coding | 0.875969 | ⋯ | 0.1641640 | 361192 | 2 | 281659 | 74692 | 4841 | 79533 | 2.06793e-01 | 15.4290 | 2.06315e-01 |\n",
       "\n"
      ],
      "text/plain": [
       "  variant       chr pos    ref alt rsid          varid        \n",
       "1 1:15791:C:T   1    15791 C   T   rs547522712   1:15791_C_T  \n",
       "2 1:69487:G:A   1    69487 G   A   rs568226429   1:69487_G_A  \n",
       "3 1:69569:T:C   1    69569 T   C   rs2531267     1:69569_T_C  \n",
       "4 1:139853:C:T  1   139853 C   T   rs533633326   1:139853_C_T \n",
       "5 1:692794:CA:C 1   692794 CA  C   1:692794_CA_C 1:692794_CA_C\n",
       "6 1:693731:A:G  1   693731 A   G   rs12238997    1:693731_A_G \n",
       "  consequence           consequence_category info     ⋯ p_hwe     n_called\n",
       "1 splice_region_variant missense             0.861678 ⋯ 0.5000000 361194  \n",
       "2 missense_variant      missense             0.956975 ⋯ 0.5000040 361194  \n",
       "3 missense_variant      missense             0.831664 ⋯ 0.5063150 361194  \n",
       "4 splice_region_variant missense             0.985255 ⋯ 0.5000040 361194  \n",
       "5 upstream_gene_variant non_coding           0.824483 ⋯ 0.0314373 361188  \n",
       "6 upstream_gene_variant non_coding           0.875969 ⋯ 0.1641640 361192  \n",
       "  n_not_called n_hom_ref n_het n_hom_var n_non_ref r_heterozygosity\n",
       "1 0            361194        0    0          0     0.00000e+00     \n",
       "2 0            361190        4    0          4     1.10744e-05     \n",
       "3 0            361058      136    0        136     3.76529e-04     \n",
       "4 0            361190        4    0          4     1.10744e-05     \n",
       "5 6            286823    70224 4141      74365     1.94425e-01     \n",
       "6 2            281659    74692 4841      79533     2.06793e-01     \n",
       "  r_het_hom_var r_expected_het_frequency\n",
       "1      NA       0.00000e+00             \n",
       "2      NA       1.10743e-05             \n",
       "3      NA       3.76459e-04             \n",
       "4      NA       1.10743e-05             \n",
       "5 16.9582       1.93734e-01             \n",
       "6 15.4290       2.06315e-01             "
      ]
     },
     "metadata": {},
     "output_type": "display_data"
    }
   ],
   "source": [
    "head(variant_ann)"
   ]
  },
  {
   "cell_type": "code",
   "execution_count": 70,
   "id": "c82a38b8-2fe6-46aa-9054-1311c63f5b79",
   "metadata": {},
   "outputs": [
    {
     "name": "stdout",
     "output_type": "stream",
     "text": [
      "[1] \"total SNPs in QTL: 275050\"\n",
      "[1] \"N SNPs in QTL mapping to reference allele in annotation: 272488\"\n",
      "[1] \"N SNPs in QTL mapping to alternative allele in annotation: 0\"\n"
     ]
    }
   ],
   "source": [
    "##################################################################################################################################################\n",
    "# Allele flip: Here we use the variant_ann as reference. This needs to be the same as the one that will be used as LD reference in coloc.susie\n",
    "# My LD reference is UKBB so I am flipping both the QTL and GWAS to match UKBB\n",
    "####################################################################################################################################################\n",
    "\n",
    "variant_ann$variant_id_chrpos <- paste(variant_ann$chr, variant_ann$pos, toupper(variant_ann$alt), sep=\"_\")\n",
    "     \n",
    "\n",
    "# Check that the QTL is on the same strand ad the GWAS. If not, flip the allele and the sign of beta\n",
    "mqtl_df$variant_id_chrpos = paste(mqtl_df$chr, mqtl_df$pos, mqtl_df$ALT, sep=\"_\")\n",
    "mqtl_df$variant_id_rev = paste(mqtl_df$chr, mqtl_df$pos, mqtl_df$REF, sep=\"_\")\n",
    "print(paste0(\"total SNPs in QTL: \", nrow(mqtl_df)))\n",
    "print(paste0(\"N SNPs in QTL mapping to reference allele in annotation: \", sum(mqtl_df$variant_id_chrpos %in% variant_ann$variant_id_chrpos)))\n",
    "print(paste0(\"N SNPs in QTL mapping to alternative allele in annotation: \", sum(mqtl_df$variant_id_rev %in% variant_ann$variant_id_chrpos)))\n",
    "      \n",
    "tmp = ifelse(mqtl_df$variant_id_chrpos %in% variant_ann$variant_id_chrpos, \"orig\",\n",
    "                ifelse(mqtl_df$variant_id_rev %in% variant_ann$variant_id_chrpos, \"rev\", NA))\n",
    "      \n",
    "mqtl_df$varid_for_coloc = ifelse(tmp == \"orig\" & !is.na(tmp), mqtl_df$variant_id_chrpos,\n",
    "                                     ifelse(tmp == \"rev\" & !is.na(tmp), mqtl_df$variant_id_rev, NA))\n",
    "\n",
    "mqtl_df$slope = ifelse(tmp == \"orig\" & !is.na(tmp), mqtl_df$slope,\n",
    "                            ifelse(tmp == \"rev\" & !is.na(tmp), (-1) * (mqtl_df$slope), NA))\n",
    "\n",
    "mqtl_df$ALT_coloc = ifelse(tmp == \"orig\" & !is.na(tmp), mqtl_df$ALT,\n",
    "                                 ifelse(tmp == \"rev\" & !is.na(tmp), mqtl_df$REF, NA))\n",
    "\n",
    "mqtl_df$REF_coloc = ifelse(tmp == \"orig\" & !is.na(tmp), mqtl_df$REF,\n",
    "                                 ifelse(tmp == \"rev\" & !is.na(tmp), mqtl_df$ALT, NA))\n",
    "      \n",
    "mqtl_df$ALT <- mqtl_df$ALT_coloc\n",
    "mqtl_df$REF <- mqtl_df$REF_coloc\n",
    "mqtl_df = mqtl_df[!is.na(mqtl_df$varid_for_coloc),]  # 158023\n",
    "      \n",
    "      "
   ]
  },
  {
   "cell_type": "code",
   "execution_count": 29,
   "id": "45971386-fbd2-4d44-82a5-b985adc01bb3",
   "metadata": {},
   "outputs": [
    {
     "data": {
      "text/html": [
       "<table class=\"dataframe\">\n",
       "<caption>A data.frame: 6 × 40</caption>\n",
       "<thead>\n",
       "\t<tr><th></th><th scope=col>gene_id</th><th scope=col>variant_id</th><th scope=col>tss_distance</th><th scope=col>ma_samples</th><th scope=col>ma_count</th><th scope=col>maf</th><th scope=col>pval_nominal</th><th scope=col>slope</th><th scope=col>slope_se</th><th scope=col>PERM_num_var</th><th scope=col>⋯</th><th scope=col>pos</th><th scope=col>REF</th><th scope=col>ALT</th><th scope=col>start</th><th scope=col>end</th><th scope=col>variant_id_chrpos</th><th scope=col>variant_id_rev</th><th scope=col>varid_for_coloc</th><th scope=col>ALT_coloc</th><th scope=col>REF_coloc</th></tr>\n",
       "\t<tr><th></th><th scope=col>&lt;chr&gt;</th><th scope=col>&lt;chr&gt;</th><th scope=col>&lt;int&gt;</th><th scope=col>&lt;int&gt;</th><th scope=col>&lt;int&gt;</th><th scope=col>&lt;dbl&gt;</th><th scope=col>&lt;dbl&gt;</th><th scope=col>&lt;dbl&gt;</th><th scope=col>&lt;dbl&gt;</th><th scope=col>&lt;int&gt;</th><th scope=col>⋯</th><th scope=col>&lt;int&gt;</th><th scope=col>&lt;chr&gt;</th><th scope=col>&lt;chr&gt;</th><th scope=col>&lt;dbl&gt;</th><th scope=col>&lt;dbl&gt;</th><th scope=col>&lt;chr&gt;</th><th scope=col>&lt;chr&gt;</th><th scope=col>&lt;chr&gt;</th><th scope=col>&lt;chr&gt;</th><th scope=col>&lt;chr&gt;</th></tr>\n",
       "</thead>\n",
       "<tbody>\n",
       "\t<tr><th scope=row>1</th><td>cg07217846</td><td>rs823385  </td><td>-999309</td><td>186</td><td>231</td><td>0.401042</td><td>0.9536340</td><td> 0.00427193</td><td>0.0733996</td><td>2316</td><td>⋯</td><td>48514499</td><td>C</td><td>T</td><td>48414499</td><td>48614499</td><td>1_48514499_T</td><td>1_48514499_C</td><td>1_48514499_T</td><td>T</td><td>C</td></tr>\n",
       "\t<tr><th scope=row>2</th><td>cg07217846</td><td>rs692931  </td><td>-998845</td><td>200</td><td>244</td><td>0.423611</td><td>0.1070560</td><td> 0.12463100</td><td>0.0770643</td><td>2316</td><td>⋯</td><td>48514963</td><td>G</td><td>A</td><td>48414963</td><td>48614963</td><td>1_48514963_A</td><td>1_48514963_G</td><td>1_48514963_A</td><td>A</td><td>G</td></tr>\n",
       "\t<tr><th scope=row>3</th><td>cg07217846</td><td>rs564986  </td><td>-998709</td><td>186</td><td>230</td><td>0.399306</td><td>0.9846780</td><td>-0.00141191</td><td>0.0734503</td><td>2316</td><td>⋯</td><td>48515099</td><td>A</td><td>G</td><td>48415099</td><td>48615099</td><td>1_48515099_G</td><td>1_48515099_A</td><td>1_48515099_G</td><td>G</td><td>A</td></tr>\n",
       "\t<tr><th scope=row>4</th><td>cg07217846</td><td>rs12042708</td><td>-998525</td><td> 75</td><td> 82</td><td>0.142361</td><td>0.0676485</td><td>-0.17963900</td><td>0.0978913</td><td>2316</td><td>⋯</td><td>48515283</td><td>C</td><td>T</td><td>48415283</td><td>48615283</td><td>1_48515283_T</td><td>1_48515283_C</td><td>1_48515283_T</td><td>T</td><td>C</td></tr>\n",
       "\t<tr><th scope=row>5</th><td>cg07217846</td><td>rs59741549</td><td>-998455</td><td> 74</td><td> 81</td><td>0.140625</td><td>0.0623220</td><td>-0.18406800</td><td>0.0983195</td><td>2316</td><td>⋯</td><td>48515353</td><td>A</td><td>G</td><td>48415353</td><td>48615353</td><td>1_48515353_G</td><td>1_48515353_A</td><td>1_48515353_G</td><td>G</td><td>A</td></tr>\n",
       "\t<tr><th scope=row>6</th><td>cg07217846</td><td>rs17104087</td><td>-998431</td><td> 74</td><td> 81</td><td>0.140625</td><td>0.0623220</td><td>-0.18406800</td><td>0.0983195</td><td>2316</td><td>⋯</td><td>48515377</td><td>A</td><td>G</td><td>48415377</td><td>48615377</td><td>1_48515377_G</td><td>1_48515377_A</td><td>1_48515377_G</td><td>G</td><td>A</td></tr>\n",
       "</tbody>\n",
       "</table>\n"
      ],
      "text/latex": [
       "A data.frame: 6 × 40\n",
       "\\begin{tabular}{r|lllllllllllllllllllll}\n",
       "  & gene\\_id & variant\\_id & tss\\_distance & ma\\_samples & ma\\_count & maf & pval\\_nominal & slope & slope\\_se & PERM\\_num\\_var & ⋯ & pos & REF & ALT & start & end & variant\\_id\\_chrpos & variant\\_id\\_rev & varid\\_for\\_coloc & ALT\\_coloc & REF\\_coloc\\\\\n",
       "  & <chr> & <chr> & <int> & <int> & <int> & <dbl> & <dbl> & <dbl> & <dbl> & <int> & ⋯ & <int> & <chr> & <chr> & <dbl> & <dbl> & <chr> & <chr> & <chr> & <chr> & <chr>\\\\\n",
       "\\hline\n",
       "\t1 & cg07217846 & rs823385   & -999309 & 186 & 231 & 0.401042 & 0.9536340 &  0.00427193 & 0.0733996 & 2316 & ⋯ & 48514499 & C & T & 48414499 & 48614499 & 1\\_48514499\\_T & 1\\_48514499\\_C & 1\\_48514499\\_T & T & C\\\\\n",
       "\t2 & cg07217846 & rs692931   & -998845 & 200 & 244 & 0.423611 & 0.1070560 &  0.12463100 & 0.0770643 & 2316 & ⋯ & 48514963 & G & A & 48414963 & 48614963 & 1\\_48514963\\_A & 1\\_48514963\\_G & 1\\_48514963\\_A & A & G\\\\\n",
       "\t3 & cg07217846 & rs564986   & -998709 & 186 & 230 & 0.399306 & 0.9846780 & -0.00141191 & 0.0734503 & 2316 & ⋯ & 48515099 & A & G & 48415099 & 48615099 & 1\\_48515099\\_G & 1\\_48515099\\_A & 1\\_48515099\\_G & G & A\\\\\n",
       "\t4 & cg07217846 & rs12042708 & -998525 &  75 &  82 & 0.142361 & 0.0676485 & -0.17963900 & 0.0978913 & 2316 & ⋯ & 48515283 & C & T & 48415283 & 48615283 & 1\\_48515283\\_T & 1\\_48515283\\_C & 1\\_48515283\\_T & T & C\\\\\n",
       "\t5 & cg07217846 & rs59741549 & -998455 &  74 &  81 & 0.140625 & 0.0623220 & -0.18406800 & 0.0983195 & 2316 & ⋯ & 48515353 & A & G & 48415353 & 48615353 & 1\\_48515353\\_G & 1\\_48515353\\_A & 1\\_48515353\\_G & G & A\\\\\n",
       "\t6 & cg07217846 & rs17104087 & -998431 &  74 &  81 & 0.140625 & 0.0623220 & -0.18406800 & 0.0983195 & 2316 & ⋯ & 48515377 & A & G & 48415377 & 48615377 & 1\\_48515377\\_G & 1\\_48515377\\_A & 1\\_48515377\\_G & G & A\\\\\n",
       "\\end{tabular}\n"
      ],
      "text/markdown": [
       "\n",
       "A data.frame: 6 × 40\n",
       "\n",
       "| <!--/--> | gene_id &lt;chr&gt; | variant_id &lt;chr&gt; | tss_distance &lt;int&gt; | ma_samples &lt;int&gt; | ma_count &lt;int&gt; | maf &lt;dbl&gt; | pval_nominal &lt;dbl&gt; | slope &lt;dbl&gt; | slope_se &lt;dbl&gt; | PERM_num_var &lt;int&gt; | ⋯ ⋯ | pos &lt;int&gt; | REF &lt;chr&gt; | ALT &lt;chr&gt; | start &lt;dbl&gt; | end &lt;dbl&gt; | variant_id_chrpos &lt;chr&gt; | variant_id_rev &lt;chr&gt; | varid_for_coloc &lt;chr&gt; | ALT_coloc &lt;chr&gt; | REF_coloc &lt;chr&gt; |\n",
       "|---|---|---|---|---|---|---|---|---|---|---|---|---|---|---|---|---|---|---|---|---|---|\n",
       "| 1 | cg07217846 | rs823385   | -999309 | 186 | 231 | 0.401042 | 0.9536340 |  0.00427193 | 0.0733996 | 2316 | ⋯ | 48514499 | C | T | 48414499 | 48614499 | 1_48514499_T | 1_48514499_C | 1_48514499_T | T | C |\n",
       "| 2 | cg07217846 | rs692931   | -998845 | 200 | 244 | 0.423611 | 0.1070560 |  0.12463100 | 0.0770643 | 2316 | ⋯ | 48514963 | G | A | 48414963 | 48614963 | 1_48514963_A | 1_48514963_G | 1_48514963_A | A | G |\n",
       "| 3 | cg07217846 | rs564986   | -998709 | 186 | 230 | 0.399306 | 0.9846780 | -0.00141191 | 0.0734503 | 2316 | ⋯ | 48515099 | A | G | 48415099 | 48615099 | 1_48515099_G | 1_48515099_A | 1_48515099_G | G | A |\n",
       "| 4 | cg07217846 | rs12042708 | -998525 |  75 |  82 | 0.142361 | 0.0676485 | -0.17963900 | 0.0978913 | 2316 | ⋯ | 48515283 | C | T | 48415283 | 48615283 | 1_48515283_T | 1_48515283_C | 1_48515283_T | T | C |\n",
       "| 5 | cg07217846 | rs59741549 | -998455 |  74 |  81 | 0.140625 | 0.0623220 | -0.18406800 | 0.0983195 | 2316 | ⋯ | 48515353 | A | G | 48415353 | 48615353 | 1_48515353_G | 1_48515353_A | 1_48515353_G | G | A |\n",
       "| 6 | cg07217846 | rs17104087 | -998431 |  74 |  81 | 0.140625 | 0.0623220 | -0.18406800 | 0.0983195 | 2316 | ⋯ | 48515377 | A | G | 48415377 | 48615377 | 1_48515377_G | 1_48515377_A | 1_48515377_G | G | A |\n",
       "\n"
      ],
      "text/plain": [
       "  gene_id    variant_id tss_distance ma_samples ma_count maf      pval_nominal\n",
       "1 cg07217846 rs823385   -999309      186        231      0.401042 0.9536340   \n",
       "2 cg07217846 rs692931   -998845      200        244      0.423611 0.1070560   \n",
       "3 cg07217846 rs564986   -998709      186        230      0.399306 0.9846780   \n",
       "4 cg07217846 rs12042708 -998525       75         82      0.142361 0.0676485   \n",
       "5 cg07217846 rs59741549 -998455       74         81      0.140625 0.0623220   \n",
       "6 cg07217846 rs17104087 -998431       74         81      0.140625 0.0623220   \n",
       "  slope       slope_se  PERM_num_var ⋯ pos      REF ALT start    end     \n",
       "1  0.00427193 0.0733996 2316         ⋯ 48514499 C   T   48414499 48614499\n",
       "2  0.12463100 0.0770643 2316         ⋯ 48514963 G   A   48414963 48614963\n",
       "3 -0.00141191 0.0734503 2316         ⋯ 48515099 A   G   48415099 48615099\n",
       "4 -0.17963900 0.0978913 2316         ⋯ 48515283 C   T   48415283 48615283\n",
       "5 -0.18406800 0.0983195 2316         ⋯ 48515353 A   G   48415353 48615353\n",
       "6 -0.18406800 0.0983195 2316         ⋯ 48515377 A   G   48415377 48615377\n",
       "  variant_id_chrpos variant_id_rev varid_for_coloc ALT_coloc REF_coloc\n",
       "1 1_48514499_T      1_48514499_C   1_48514499_T    T         C        \n",
       "2 1_48514963_A      1_48514963_G   1_48514963_A    A         G        \n",
       "3 1_48515099_G      1_48515099_A   1_48515099_G    G         A        \n",
       "4 1_48515283_T      1_48515283_C   1_48515283_T    T         C        \n",
       "5 1_48515353_G      1_48515353_A   1_48515353_G    G         A        \n",
       "6 1_48515377_G      1_48515377_A   1_48515377_G    G         A        "
      ]
     },
     "metadata": {},
     "output_type": "display_data"
    }
   ],
   "source": [
    "head(mqtl_df)"
   ]
  },
  {
   "cell_type": "code",
   "execution_count": 71,
   "id": "02e52396-3e56-4bbe-ae8a-33e6eb0ad85c",
   "metadata": {},
   "outputs": [
    {
     "name": "stdout",
     "output_type": "stream",
     "text": [
      "[1] \"total SNPs in GWAS: 1464\"\n",
      "[1] \"N SNPs in GWAS mapping to reference allele in annotation: 823\"\n",
      "[1] \"N SNPs in GWAS mapping to alternative allele in annotation: 636\"\n"
     ]
    }
   ],
   "source": [
    "# Flip the GWAS\n",
    "GWAS_associations$variant_id_chrpos = paste(GWAS_associations$chr, GWAS_associations$position, GWAS_associations$ea, sep=\"_\")\n",
    "GWAS_associations$variant_id_rev = paste(GWAS_associations$chr, GWAS_associations$position, GWAS_associations$nea, sep=\"_\")\n",
    "print(paste0(\"total SNPs in GWAS: \", nrow(GWAS_associations)))\n",
    "print(paste0(\"N SNPs in GWAS mapping to reference allele in annotation: \", sum(GWAS_associations$variant_id_chrpos %in% variant_ann$variant_id_chrpos)))\n",
    "print(paste0(\"N SNPs in GWAS mapping to alternative allele in annotation: \", sum(GWAS_associations$variant_id_rev %in% variant_ann$variant_id_chrpos)))\n",
    "      \n",
    "tmp = ifelse(GWAS_associations$variant_id_chrpos %in% variant_ann$variant_id_chrpos, \"orig\",\n",
    "                  ifelse(GWAS_associations$variant_id_rev %in% variant_ann$variant_id_chrpos, \"rev\", NA))\n",
    "      \n",
    "GWAS_associations$varid_for_coloc = ifelse(tmp == \"orig\" & !is.na(tmp), GWAS_associations$variant_id_chrpos,\n",
    "                                               ifelse(tmp == \"rev\" & !is.na(tmp), GWAS_associations$variant_id_rev, NA))\n",
    "GWAS_associations$beta = ifelse(tmp == \"orig\" & !is.na(tmp), GWAS_associations$beta,\n",
    "                                    ifelse(tmp == \"rev\" & !is.na(tmp), (-1) * (GWAS_associations$beta), NA))\n",
    "GWAS_associations$ea_coloc = ifelse(tmp == \"orig\" & !is.na(tmp), GWAS_associations$ea,\n",
    "                                       ifelse(tmp == \"rev\" & !is.na(tmp), GWAS_associations$nea, NA))\n",
    "GWAS_associations$nea_coloc = ifelse(tmp == \"orig\" & !is.na(tmp), GWAS_associations$nea,\n",
    "                                        ifelse(tmp == \"rev\" & !is.na(tmp), GWAS_associations$ea, NA))\n",
    "      \n",
    "      \n",
    "GWAS_associations$ea <- GWAS_associations$ea_coloc\n",
    "GWAS_associations$nea <- GWAS_associations$nea_coloc\n",
    "GWAS_associations = GWAS_associations[!is.na(GWAS_associations$varid_for_coloc),]\n",
    "      \n",
    "save(GWAS_associations, file = file.path(\"GWAS_sumstats\", paste0(GWAS_ID,\"_GWAS_associations.rda\")))\n",
    "      "
   ]
  },
  {
   "cell_type": "code",
   "execution_count": 72,
   "id": "7eec178e-376e-42f7-96b4-e949cc75aba7",
   "metadata": {},
   "outputs": [
    {
     "name": "stderr",
     "output_type": "stream",
     "text": [
      "Warning message in dir.create(paste0(\"coloc/Coloc_sumstats/\")):\n",
      "“'coloc/Coloc_sumstats' already exists”\n",
      "Warning message in dir.create(paste0(\"coloc/Coloc_sumstats/Coloc_\", GWAS_ID)):\n",
      "“'coloc/Coloc_sumstats/Coloc_GCST009004' already exists”\n",
      "Warning message in dir.create(paste0(\"coloc/Coloc_sumstats/Coloc_mQTL_\", GWAS_ID)):\n",
      "“'coloc/Coloc_sumstats/Coloc_mQTL_GCST009004' already exists”\n"
     ]
    },
    {
     "name": "stdout",
     "output_type": "stream",
     "text": [
      "[1] \"Making QTL-GWAS overlap file for GCST009004\"\n"
     ]
    },
    {
     "name": "stderr",
     "output_type": "stream",
     "text": [
      "Warning message in dir.create(file.path(\"coloc/Coloc_sumstats/\", paste0(GWAS_ID, :\n",
      "“'coloc/Coloc_sumstats//GCST009004_coloc_rda_files' already exists”\n",
      "Warning message in dir.create(file.path(paste0(GWAS_ID, \"_coloc_rda_files\"))):\n",
      "“'GCST009004_coloc_rda_files' already exists”\n"
     ]
    }
   ],
   "source": [
    "########################\n",
    "# Generate genomic ranges for QTL\n",
    "########################\n",
    "dir.create(paste0(\"coloc/Coloc_sumstats/\"))\n",
    "dir.create(paste0(\"coloc/Coloc_sumstats/Coloc_\", GWAS_ID))\n",
    "dir.create(paste0(\"coloc/Coloc_sumstats/Coloc_mQTL_\", GWAS_ID))\n",
    "\n",
    "cpg_df <- mqtl_g[mqtl_g$gene_id %in% unique(mqtl_df$gene_id), c(\"gene_id\", \"chr\", \"pos\")]\n",
    "cpg_df$id = cpg_df$gene_id\n",
    "cpg_df$start = cpg_df$pos\n",
    "cpg_df$end = cpg_df$start\n",
    "cpg_df$chr <- gsub(\"chr\", \"\", cpg_df$chr)\n",
    "cpg_df$pos <- cpg_df$start\n",
    "      \n",
    "cpg_df_gr = makeGRangesFromDataFrame(cpg_df,\n",
    "                                     keep.extra.columns=FALSE,\n",
    "                                     ignore.strand=FALSE,\n",
    "                                     seqinfo=NULL,\n",
    "                                     seqnames.field=c(\"chr\"),\n",
    "                                     start.field=\"start\",\n",
    "                                     end.field=c(\"end\"),\n",
    "                                     strand.field=\"strand\",\n",
    "                                     starts.in.df.are.0based=FALSE)                                           \n",
    "      \n",
    "      \n",
    "      \n",
    "save(cpg_df_gr, file = paste0(\"coloc/Coloc_sumstats/mqtl_df_\", GWAS_ID,\".rda\"))\n",
    "save(mqtl_df, file = paste0(\"coloc/Coloc_sumstats/cpg_df_gr_\", GWAS_ID,\".rda\"))\n",
    "      \n",
    "      \n",
    "print(paste0(\"Making QTL-GWAS overlap file for \", GWAS_ID))\n",
    "overlap_df = get_overlap_df_small(in_signals_gr = GWAS_signals_coloc$signals_gr, \n",
    "                                    in_cpg_df_gr = cpg_df_gr, \n",
    "                                    in_cpg_df = cpg_df, \n",
    "                                    in_peer_dat = mqtl_df, \n",
    "                                    in_gwas_sig = GWAS_signals_coloc$gwas_sigs)\n",
    "      \n",
    "\n",
    "dir.create(file.path(\"coloc/Coloc_sumstats/\", paste0(GWAS_ID, \"_coloc_rda_files\")))\n",
    "dir.create(file.path(paste0(GWAS_ID, \"_coloc_rda_files\")))\n",
    "      \n",
    "save(overlap_df, file= paste0(\"coloc/Coloc_sumstats/overlap_df_\", GWAS_ID,\".rda\"))"
   ]
  },
  {
   "cell_type": "code",
   "execution_count": 54,
   "id": "de4f2f2f-0138-473a-81f0-ae72a0401f7c",
   "metadata": {},
   "outputs": [],
   "source": [
    "# Load if already done\n",
    "#load(file= paste0(\"coloc/Coloc_sumstats/overlap_df_\", GWAS_ID,\".rda\"))\n",
    "#load(file = paste0(\"coloc/Coloc_sumstats/mqtl_df_\", GWAS_ID,\".rda\"))\n",
    "#load(file = paste0(\"coloc/Coloc_sumstats/cpg_df_gr_\", GWAS_ID,\".rda\"))\n"
   ]
  },
  {
   "cell_type": "code",
   "execution_count": 73,
   "id": "607a3cb9-047f-4edf-9505-4ea24ba38504",
   "metadata": {},
   "outputs": [],
   "source": [
    "# Set the GWAS trait type, either quantitative or case-control\n",
    "type = ifelse(length(GWAS_n) == 1, \"quant\", \"cc\")"
   ]
  },
  {
   "cell_type": "code",
   "execution_count": 74,
   "id": "2753e0c4-f9e2-40ca-80c7-95d858710896",
   "metadata": {},
   "outputs": [],
   "source": [
    "# Set the QTL sample size\n",
    "QTL_n=288"
   ]
  },
  {
   "cell_type": "code",
   "execution_count": 75,
   "id": "985283cd-9d0f-462f-9df8-7cb0033ac991",
   "metadata": {},
   "outputs": [
    {
     "name": "stdout",
     "output_type": "stream",
     "text": [
      "[1] \"Performing coloc for GCST009004\"\n"
     ]
    }
   ],
   "source": [
    "# Run coloc\n",
    "print(paste0(\"Performing coloc for \", GWAS_ID))\n",
    "colocFAST_df_results = perform_coloc(overlap_df = overlap_df$overlap_df, \n",
    "                                     in_m_qtl = overlap_df$m_qtl, \n",
    "                                     out_path = working_dir, \n",
    "                                     gwas_n = GWAS_n, # If type=cc, make sure that the first number refers to the cases because coloc will use the proportion of cases\n",
    "                                     in_gwas = GWAS_associations,\n",
    "                                     GWAS_type=type, \n",
    "                                     GWAS_ID=GWAS_ID, \n",
    "                                     QTL_n=QTL_n, \n",
    "                                     is.eQTL=FALSE, # This is to change the columns that are reported at the end since they differ between methylation QTLs and expression QTLs \n",
    "                                     cores=5)\n",
    "    \n",
    "    \n",
    "    \n"
   ]
  },
  {
   "cell_type": "code",
   "execution_count": 56,
   "id": "628b02ff-a081-415d-bf76-9be84bad63c5",
   "metadata": {},
   "outputs": [
    {
     "data": {
      "text/html": [
       "<table class=\"dataframe\">\n",
       "<caption>A tibble: 6 × 16</caption>\n",
       "<thead>\n",
       "\t<tr><th scope=col>chr</th><th scope=col>position</th><th scope=col>beta</th><th scope=col>se</th><th scope=col>p</th><th scope=col>n</th><th scope=col>id</th><th scope=col>rsid</th><th scope=col>ea</th><th scope=col>nea</th><th scope=col>eaf</th><th scope=col>variant_id_chrpos</th><th scope=col>variant_id_rev</th><th scope=col>varid_for_coloc</th><th scope=col>ea_coloc</th><th scope=col>nea_coloc</th></tr>\n",
       "\t<tr><th scope=col>&lt;fct&gt;</th><th scope=col>&lt;int&gt;</th><th scope=col>&lt;dbl&gt;</th><th scope=col>&lt;dbl&gt;</th><th scope=col>&lt;dbl&gt;</th><th scope=col>&lt;dbl&gt;</th><th scope=col>&lt;chr&gt;</th><th scope=col>&lt;chr&gt;</th><th scope=col>&lt;chr&gt;</th><th scope=col>&lt;chr&gt;</th><th scope=col>&lt;dbl&gt;</th><th scope=col>&lt;chr&gt;</th><th scope=col>&lt;chr&gt;</th><th scope=col>&lt;chr&gt;</th><th scope=col>&lt;chr&gt;</th><th scope=col>&lt;chr&gt;</th></tr>\n",
       "</thead>\n",
       "<tbody>\n",
       "\t<tr><td>1</td><td>98216085</td><td> 0.0108</td><td>0.0041</td><td>8.289914e-03</td><td>806834</td><td>a</td><td>rs74108304</td><td>T</td><td>C</td><td>0.0567</td><td>1_98216085_T</td><td>1_98216085_C</td><td>1_98216085_T</td><td>T</td><td>C</td></tr>\n",
       "\t<tr><td>1</td><td>98218276</td><td>-0.0007</td><td>0.0022</td><td>7.558994e-01</td><td>806834</td><td>a</td><td>rs56202188</td><td>A</td><td>C</td><td>0.2751</td><td>1_98218276_A</td><td>1_98218276_C</td><td>1_98218276_A</td><td>A</td><td>C</td></tr>\n",
       "\t<tr><td>1</td><td>98218887</td><td> 0.0099</td><td>0.0041</td><td>1.472007e-02</td><td>806834</td><td>a</td><td>rs74108305</td><td>T</td><td>C</td><td>0.0581</td><td>1_98218887_T</td><td>1_98218887_C</td><td>1_98218887_T</td><td>T</td><td>C</td></tr>\n",
       "\t<tr><td>1</td><td>98220320</td><td> 0.0127</td><td>0.0031</td><td>5.226970e-05</td><td>806834</td><td>a</td><td>rs56012174</td><td>G</td><td>C</td><td>0.8959</td><td>1_98220320_C</td><td>1_98220320_G</td><td>1_98220320_G</td><td>G</td><td>C</td></tr>\n",
       "\t<tr><td>1</td><td>98227080</td><td> 0.0105</td><td>0.0024</td><td>9.646949e-06</td><td>806834</td><td>a</td><td>rs61786604</td><td>G</td><td>A</td><td>0.7976</td><td>1_98227080_A</td><td>1_98227080_G</td><td>1_98227080_G</td><td>G</td><td>A</td></tr>\n",
       "\t<tr><td>1</td><td>98230887</td><td> 0.0089</td><td>0.0021</td><td>2.577983e-05</td><td>806834</td><td>a</td><td>rs17378671</td><td>C</td><td>T</td><td>0.8012</td><td>1_98230887_T</td><td>1_98230887_C</td><td>1_98230887_C</td><td>C</td><td>T</td></tr>\n",
       "</tbody>\n",
       "</table>\n"
      ],
      "text/latex": [
       "A tibble: 6 × 16\n",
       "\\begin{tabular}{llllllllllllllll}\n",
       " chr & position & beta & se & p & n & id & rsid & ea & nea & eaf & variant\\_id\\_chrpos & variant\\_id\\_rev & varid\\_for\\_coloc & ea\\_coloc & nea\\_coloc\\\\\n",
       " <fct> & <int> & <dbl> & <dbl> & <dbl> & <dbl> & <chr> & <chr> & <chr> & <chr> & <dbl> & <chr> & <chr> & <chr> & <chr> & <chr>\\\\\n",
       "\\hline\n",
       "\t 1 & 98216085 &  0.0108 & 0.0041 & 8.289914e-03 & 806834 & a & rs74108304 & T & C & 0.0567 & 1\\_98216085\\_T & 1\\_98216085\\_C & 1\\_98216085\\_T & T & C\\\\\n",
       "\t 1 & 98218276 & -0.0007 & 0.0022 & 7.558994e-01 & 806834 & a & rs56202188 & A & C & 0.2751 & 1\\_98218276\\_A & 1\\_98218276\\_C & 1\\_98218276\\_A & A & C\\\\\n",
       "\t 1 & 98218887 &  0.0099 & 0.0041 & 1.472007e-02 & 806834 & a & rs74108305 & T & C & 0.0581 & 1\\_98218887\\_T & 1\\_98218887\\_C & 1\\_98218887\\_T & T & C\\\\\n",
       "\t 1 & 98220320 &  0.0127 & 0.0031 & 5.226970e-05 & 806834 & a & rs56012174 & G & C & 0.8959 & 1\\_98220320\\_C & 1\\_98220320\\_G & 1\\_98220320\\_G & G & C\\\\\n",
       "\t 1 & 98227080 &  0.0105 & 0.0024 & 9.646949e-06 & 806834 & a & rs61786604 & G & A & 0.7976 & 1\\_98227080\\_A & 1\\_98227080\\_G & 1\\_98227080\\_G & G & A\\\\\n",
       "\t 1 & 98230887 &  0.0089 & 0.0021 & 2.577983e-05 & 806834 & a & rs17378671 & C & T & 0.8012 & 1\\_98230887\\_T & 1\\_98230887\\_C & 1\\_98230887\\_C & C & T\\\\\n",
       "\\end{tabular}\n"
      ],
      "text/markdown": [
       "\n",
       "A tibble: 6 × 16\n",
       "\n",
       "| chr &lt;fct&gt; | position &lt;int&gt; | beta &lt;dbl&gt; | se &lt;dbl&gt; | p &lt;dbl&gt; | n &lt;dbl&gt; | id &lt;chr&gt; | rsid &lt;chr&gt; | ea &lt;chr&gt; | nea &lt;chr&gt; | eaf &lt;dbl&gt; | variant_id_chrpos &lt;chr&gt; | variant_id_rev &lt;chr&gt; | varid_for_coloc &lt;chr&gt; | ea_coloc &lt;chr&gt; | nea_coloc &lt;chr&gt; |\n",
       "|---|---|---|---|---|---|---|---|---|---|---|---|---|---|---|---|\n",
       "| 1 | 98216085 |  0.0108 | 0.0041 | 8.289914e-03 | 806834 | a | rs74108304 | T | C | 0.0567 | 1_98216085_T | 1_98216085_C | 1_98216085_T | T | C |\n",
       "| 1 | 98218276 | -0.0007 | 0.0022 | 7.558994e-01 | 806834 | a | rs56202188 | A | C | 0.2751 | 1_98218276_A | 1_98218276_C | 1_98218276_A | A | C |\n",
       "| 1 | 98218887 |  0.0099 | 0.0041 | 1.472007e-02 | 806834 | a | rs74108305 | T | C | 0.0581 | 1_98218887_T | 1_98218887_C | 1_98218887_T | T | C |\n",
       "| 1 | 98220320 |  0.0127 | 0.0031 | 5.226970e-05 | 806834 | a | rs56012174 | G | C | 0.8959 | 1_98220320_C | 1_98220320_G | 1_98220320_G | G | C |\n",
       "| 1 | 98227080 |  0.0105 | 0.0024 | 9.646949e-06 | 806834 | a | rs61786604 | G | A | 0.7976 | 1_98227080_A | 1_98227080_G | 1_98227080_G | G | A |\n",
       "| 1 | 98230887 |  0.0089 | 0.0021 | 2.577983e-05 | 806834 | a | rs17378671 | C | T | 0.8012 | 1_98230887_T | 1_98230887_C | 1_98230887_C | C | T |\n",
       "\n"
      ],
      "text/plain": [
       "  chr position beta    se     p            n      id rsid       ea nea eaf   \n",
       "1 1   98216085  0.0108 0.0041 8.289914e-03 806834 a  rs74108304 T  C   0.0567\n",
       "2 1   98218276 -0.0007 0.0022 7.558994e-01 806834 a  rs56202188 A  C   0.2751\n",
       "3 1   98218887  0.0099 0.0041 1.472007e-02 806834 a  rs74108305 T  C   0.0581\n",
       "4 1   98220320  0.0127 0.0031 5.226970e-05 806834 a  rs56012174 G  C   0.8959\n",
       "5 1   98227080  0.0105 0.0024 9.646949e-06 806834 a  rs61786604 G  A   0.7976\n",
       "6 1   98230887  0.0089 0.0021 2.577983e-05 806834 a  rs17378671 C  T   0.8012\n",
       "  variant_id_chrpos variant_id_rev varid_for_coloc ea_coloc nea_coloc\n",
       "1 1_98216085_T      1_98216085_C   1_98216085_T    T        C        \n",
       "2 1_98218276_A      1_98218276_C   1_98218276_A    A        C        \n",
       "3 1_98218887_T      1_98218887_C   1_98218887_T    T        C        \n",
       "4 1_98220320_C      1_98220320_G   1_98220320_G    G        C        \n",
       "5 1_98227080_A      1_98227080_G   1_98227080_G    G        A        \n",
       "6 1_98230887_T      1_98230887_C   1_98230887_C    C        T        "
      ]
     },
     "metadata": {},
     "output_type": "display_data"
    }
   ],
   "source": [
    "head(GWAS_associations)"
   ]
  },
  {
   "cell_type": "code",
   "execution_count": 35,
   "id": "8cd02c00-6c4c-4570-95c4-e91403be72f0",
   "metadata": {},
   "outputs": [
    {
     "data": {
      "text/html": [
       "<table class=\"dataframe\">\n",
       "<caption>A data.frame: 4 × 26</caption>\n",
       "<thead>\n",
       "\t<tr><th></th><th scope=col>cpg</th><th scope=col>cpg_pos</th><th scope=col>cpg_gene</th><th scope=col>coloc_lead_snp_chr</th><th scope=col>coloc_lead_snp_pos</th><th scope=col>coloc_lead_snp_rs</th><th scope=col>credible_set</th><th scope=col>gwas_lead_snp</th><th scope=col>gwas_lead_snp_rs</th><th scope=col>nvariants</th><th scope=col>⋯</th><th scope=col>n_gwas_variants_sign_1emins5</th><th scope=col>n_gwas_variants_sign_1emins4</th><th scope=col>PP0</th><th scope=col>PP1</th><th scope=col>PP2</th><th scope=col>PP3</th><th scope=col>PP4</th><th scope=col>test_nea</th><th scope=col>test_ea</th><th scope=col>gwas_signal</th></tr>\n",
       "\t<tr><th></th><th scope=col>&lt;chr&gt;</th><th scope=col>&lt;int&gt;</th><th scope=col>&lt;chr&gt;</th><th scope=col>&lt;chr&gt;</th><th scope=col>&lt;chr&gt;</th><th scope=col>&lt;chr&gt;</th><th scope=col>&lt;chr&gt;</th><th scope=col>&lt;chr&gt;</th><th scope=col>&lt;chr&gt;</th><th scope=col>&lt;dbl&gt;</th><th scope=col>⋯</th><th scope=col>&lt;int&gt;</th><th scope=col>&lt;int&gt;</th><th scope=col>&lt;dbl&gt;</th><th scope=col>&lt;dbl&gt;</th><th scope=col>&lt;dbl&gt;</th><th scope=col>&lt;dbl&gt;</th><th scope=col>&lt;dbl&gt;</th><th scope=col>&lt;lgl&gt;</th><th scope=col>&lt;lgl&gt;</th><th scope=col>&lt;chr&gt;</th></tr>\n",
       "</thead>\n",
       "<tbody>\n",
       "\t<tr><th scope=row>nsnps29</th><td>cg26836456</td><td> 98393523</td><td>DPYD        </td><td>1 </td><td>98332523 </td><td>rs61787785</td><td>rs75641275,rs4523552,rs61787785,rs17379561,rs4378243,rs4506495                                                                                                                                                                                                                                                                                                                                                                                                                    </td><td>1:98315893  </td><td>rs12072739</td><td>176</td><td>⋯</td><td>88</td><td>109</td><td>1.101942e-08</td><td>6.748635e-09</td><td>1.234753e-01</td><td>0.074818390</td><td>0.8017063</td><td>TRUE</td><td>TRUE</td><td>rs12072739</td></tr>\n",
       "\t<tr><th scope=row>nsnps34</th><td>cg19889307</td><td> 75970503</td><td>ADK;AP3M1   </td><td>10</td><td>76018301 </td><td>rs11000941</td><td>rs11000912,rs10824102,rs10824103,rs12220238,rs11000916,rs7083534,rs10824106,rs7909915,rs6480723,rs10762582,rs11000922,rs11000924,rs11000925,rs11000930,rs10824122,rs16931294,rs10824128,rs10824129,rs10824130,rs4320897,rs11000941                                                                                                                                                                                                                                                </td><td>10:76047464 </td><td>rs12098284</td><td>283</td><td>⋯</td><td>95</td><td>113</td><td>1.093599e-53</td><td>1.839005e-07</td><td>1.119138e-47</td><td>0.187382490</td><td>0.8126173</td><td>TRUE</td><td>TRUE</td><td>rs12098284</td></tr>\n",
       "\t<tr><th scope=row>nsnps36</th><td>cg13649133</td><td> 76020585</td><td>AP3M1       </td><td>10</td><td>76031721 </td><td>rs11000948</td><td>rs11000912,rs10824102,rs10824103,rs12220238,rs10824105,rs11000916,rs7083534,rs10824106,rs7909915,rs10762582,rs11000922,rs11000930,rs10824122,rs16931294,rs10824128,rs10824129,rs10824130,rs4320897,rs11000941,rs10824133,rs12217890,rs11000945,rs11000948,rs12357643,rs11000952,rs12098284,rs11000968,rs11000979,rs7073139,rs11000987,rs11000988,rs10824146,rs10824148,rs2395087,rs2894235,rs10824151,rs11001003,rs11001014,rs10824160,rs10824161,rs10824163,rs10824164,rs11001020</td><td>10:76047464 </td><td>rs12098284</td><td>283</td><td>⋯</td><td>95</td><td>113</td><td>1.956864e-12</td><td>9.208630e-08</td><td>2.002563e-06</td><td>0.093330106</td><td>0.9066678</td><td>TRUE</td><td>TRUE</td><td>rs12098284</td></tr>\n",
       "\t<tr><th scope=row>nsnps48</th><td>cg01125548</td><td>101144596</td><td>RP11-566J3.2</td><td>14</td><td>101144596</td><td>rs12147845</td><td>rs12147845                                                                                                                                                                                                                                                                                                                                                                                                                                                                        </td><td>14:101144596</td><td>rs12147845</td><td>396</td><td>⋯</td><td>47</td><td> 66</td><td>3.557435e-11</td><td>3.346401e-08</td><td>1.823077e-06</td><td>0.000715646</td><td>0.9992825</td><td>TRUE</td><td>TRUE</td><td>rs12147845</td></tr>\n",
       "</tbody>\n",
       "</table>\n"
      ],
      "text/latex": [
       "A data.frame: 4 × 26\n",
       "\\begin{tabular}{r|lllllllllllllllllllll}\n",
       "  & cpg & cpg\\_pos & cpg\\_gene & coloc\\_lead\\_snp\\_chr & coloc\\_lead\\_snp\\_pos & coloc\\_lead\\_snp\\_rs & credible\\_set & gwas\\_lead\\_snp & gwas\\_lead\\_snp\\_rs & nvariants & ⋯ & n\\_gwas\\_variants\\_sign\\_1emins5 & n\\_gwas\\_variants\\_sign\\_1emins4 & PP0 & PP1 & PP2 & PP3 & PP4 & test\\_nea & test\\_ea & gwas\\_signal\\\\\n",
       "  & <chr> & <int> & <chr> & <chr> & <chr> & <chr> & <chr> & <chr> & <chr> & <dbl> & ⋯ & <int> & <int> & <dbl> & <dbl> & <dbl> & <dbl> & <dbl> & <lgl> & <lgl> & <chr>\\\\\n",
       "\\hline\n",
       "\tnsnps29 & cg26836456 &  98393523 & DPYD         & 1  & 98332523  & rs61787785 & rs75641275,rs4523552,rs61787785,rs17379561,rs4378243,rs4506495                                                                                                                                                                                                                                                                                                                                                                                                                     & 1:98315893   & rs12072739 & 176 & ⋯ & 88 & 109 & 1.101942e-08 & 6.748635e-09 & 1.234753e-01 & 0.074818390 & 0.8017063 & TRUE & TRUE & rs12072739\\\\\n",
       "\tnsnps34 & cg19889307 &  75970503 & ADK;AP3M1    & 10 & 76018301  & rs11000941 & rs11000912,rs10824102,rs10824103,rs12220238,rs11000916,rs7083534,rs10824106,rs7909915,rs6480723,rs10762582,rs11000922,rs11000924,rs11000925,rs11000930,rs10824122,rs16931294,rs10824128,rs10824129,rs10824130,rs4320897,rs11000941                                                                                                                                                                                                                                                 & 10:76047464  & rs12098284 & 283 & ⋯ & 95 & 113 & 1.093599e-53 & 1.839005e-07 & 1.119138e-47 & 0.187382490 & 0.8126173 & TRUE & TRUE & rs12098284\\\\\n",
       "\tnsnps36 & cg13649133 &  76020585 & AP3M1        & 10 & 76031721  & rs11000948 & rs11000912,rs10824102,rs10824103,rs12220238,rs10824105,rs11000916,rs7083534,rs10824106,rs7909915,rs10762582,rs11000922,rs11000930,rs10824122,rs16931294,rs10824128,rs10824129,rs10824130,rs4320897,rs11000941,rs10824133,rs12217890,rs11000945,rs11000948,rs12357643,rs11000952,rs12098284,rs11000968,rs11000979,rs7073139,rs11000987,rs11000988,rs10824146,rs10824148,rs2395087,rs2894235,rs10824151,rs11001003,rs11001014,rs10824160,rs10824161,rs10824163,rs10824164,rs11001020 & 10:76047464  & rs12098284 & 283 & ⋯ & 95 & 113 & 1.956864e-12 & 9.208630e-08 & 2.002563e-06 & 0.093330106 & 0.9066678 & TRUE & TRUE & rs12098284\\\\\n",
       "\tnsnps48 & cg01125548 & 101144596 & RP11-566J3.2 & 14 & 101144596 & rs12147845 & rs12147845                                                                                                                                                                                                                                                                                                                                                                                                                                                                         & 14:101144596 & rs12147845 & 396 & ⋯ & 47 &  66 & 3.557435e-11 & 3.346401e-08 & 1.823077e-06 & 0.000715646 & 0.9992825 & TRUE & TRUE & rs12147845\\\\\n",
       "\\end{tabular}\n"
      ],
      "text/markdown": [
       "\n",
       "A data.frame: 4 × 26\n",
       "\n",
       "| <!--/--> | cpg &lt;chr&gt; | cpg_pos &lt;int&gt; | cpg_gene &lt;chr&gt; | coloc_lead_snp_chr &lt;chr&gt; | coloc_lead_snp_pos &lt;chr&gt; | coloc_lead_snp_rs &lt;chr&gt; | credible_set &lt;chr&gt; | gwas_lead_snp &lt;chr&gt; | gwas_lead_snp_rs &lt;chr&gt; | nvariants &lt;dbl&gt; | ⋯ ⋯ | n_gwas_variants_sign_1emins5 &lt;int&gt; | n_gwas_variants_sign_1emins4 &lt;int&gt; | PP0 &lt;dbl&gt; | PP1 &lt;dbl&gt; | PP2 &lt;dbl&gt; | PP3 &lt;dbl&gt; | PP4 &lt;dbl&gt; | test_nea &lt;lgl&gt; | test_ea &lt;lgl&gt; | gwas_signal &lt;chr&gt; |\n",
       "|---|---|---|---|---|---|---|---|---|---|---|---|---|---|---|---|---|---|---|---|---|---|\n",
       "| nsnps29 | cg26836456 |  98393523 | DPYD         | 1  | 98332523  | rs61787785 | rs75641275,rs4523552,rs61787785,rs17379561,rs4378243,rs4506495                                                                                                                                                                                                                                                                                                                                                                                                                     | 1:98315893   | rs12072739 | 176 | ⋯ | 88 | 109 | 1.101942e-08 | 6.748635e-09 | 1.234753e-01 | 0.074818390 | 0.8017063 | TRUE | TRUE | rs12072739 |\n",
       "| nsnps34 | cg19889307 |  75970503 | ADK;AP3M1    | 10 | 76018301  | rs11000941 | rs11000912,rs10824102,rs10824103,rs12220238,rs11000916,rs7083534,rs10824106,rs7909915,rs6480723,rs10762582,rs11000922,rs11000924,rs11000925,rs11000930,rs10824122,rs16931294,rs10824128,rs10824129,rs10824130,rs4320897,rs11000941                                                                                                                                                                                                                                                 | 10:76047464  | rs12098284 | 283 | ⋯ | 95 | 113 | 1.093599e-53 | 1.839005e-07 | 1.119138e-47 | 0.187382490 | 0.8126173 | TRUE | TRUE | rs12098284 |\n",
       "| nsnps36 | cg13649133 |  76020585 | AP3M1        | 10 | 76031721  | rs11000948 | rs11000912,rs10824102,rs10824103,rs12220238,rs10824105,rs11000916,rs7083534,rs10824106,rs7909915,rs10762582,rs11000922,rs11000930,rs10824122,rs16931294,rs10824128,rs10824129,rs10824130,rs4320897,rs11000941,rs10824133,rs12217890,rs11000945,rs11000948,rs12357643,rs11000952,rs12098284,rs11000968,rs11000979,rs7073139,rs11000987,rs11000988,rs10824146,rs10824148,rs2395087,rs2894235,rs10824151,rs11001003,rs11001014,rs10824160,rs10824161,rs10824163,rs10824164,rs11001020 | 10:76047464  | rs12098284 | 283 | ⋯ | 95 | 113 | 1.956864e-12 | 9.208630e-08 | 2.002563e-06 | 0.093330106 | 0.9066678 | TRUE | TRUE | rs12098284 |\n",
       "| nsnps48 | cg01125548 | 101144596 | RP11-566J3.2 | 14 | 101144596 | rs12147845 | rs12147845                                                                                                                                                                                                                                                                                                                                                                                                                                                                         | 14:101144596 | rs12147845 | 396 | ⋯ | 47 |  66 | 3.557435e-11 | 3.346401e-08 | 1.823077e-06 | 0.000715646 | 0.9992825 | TRUE | TRUE | rs12147845 |\n",
       "\n"
      ],
      "text/plain": [
       "        cpg        cpg_pos   cpg_gene     coloc_lead_snp_chr coloc_lead_snp_pos\n",
       "nsnps29 cg26836456  98393523 DPYD         1                  98332523          \n",
       "nsnps34 cg19889307  75970503 ADK;AP3M1    10                 76018301          \n",
       "nsnps36 cg13649133  76020585 AP3M1        10                 76031721          \n",
       "nsnps48 cg01125548 101144596 RP11-566J3.2 14                 101144596         \n",
       "        coloc_lead_snp_rs\n",
       "nsnps29 rs61787785       \n",
       "nsnps34 rs11000941       \n",
       "nsnps36 rs11000948       \n",
       "nsnps48 rs12147845       \n",
       "        credible_set                                                                                                                                                                                                                                                                                                                                                                                                                                                                      \n",
       "nsnps29 rs75641275,rs4523552,rs61787785,rs17379561,rs4378243,rs4506495                                                                                                                                                                                                                                                                                                                                                                                                                    \n",
       "nsnps34 rs11000912,rs10824102,rs10824103,rs12220238,rs11000916,rs7083534,rs10824106,rs7909915,rs6480723,rs10762582,rs11000922,rs11000924,rs11000925,rs11000930,rs10824122,rs16931294,rs10824128,rs10824129,rs10824130,rs4320897,rs11000941                                                                                                                                                                                                                                                \n",
       "nsnps36 rs11000912,rs10824102,rs10824103,rs12220238,rs10824105,rs11000916,rs7083534,rs10824106,rs7909915,rs10762582,rs11000922,rs11000930,rs10824122,rs16931294,rs10824128,rs10824129,rs10824130,rs4320897,rs11000941,rs10824133,rs12217890,rs11000945,rs11000948,rs12357643,rs11000952,rs12098284,rs11000968,rs11000979,rs7073139,rs11000987,rs11000988,rs10824146,rs10824148,rs2395087,rs2894235,rs10824151,rs11001003,rs11001014,rs10824160,rs10824161,rs10824163,rs10824164,rs11001020\n",
       "nsnps48 rs12147845                                                                                                                                                                                                                                                                                                                                                                                                                                                                        \n",
       "        gwas_lead_snp gwas_lead_snp_rs nvariants ⋯ n_gwas_variants_sign_1emins5\n",
       "nsnps29 1:98315893    rs12072739       176       ⋯ 88                          \n",
       "nsnps34 10:76047464   rs12098284       283       ⋯ 95                          \n",
       "nsnps36 10:76047464   rs12098284       283       ⋯ 95                          \n",
       "nsnps48 14:101144596  rs12147845       396       ⋯ 47                          \n",
       "        n_gwas_variants_sign_1emins4 PP0          PP1          PP2         \n",
       "nsnps29 109                          1.101942e-08 6.748635e-09 1.234753e-01\n",
       "nsnps34 113                          1.093599e-53 1.839005e-07 1.119138e-47\n",
       "nsnps36 113                          1.956864e-12 9.208630e-08 2.002563e-06\n",
       "nsnps48  66                          3.557435e-11 3.346401e-08 1.823077e-06\n",
       "        PP3         PP4       test_nea test_ea gwas_signal\n",
       "nsnps29 0.074818390 0.8017063 TRUE     TRUE    rs12072739 \n",
       "nsnps34 0.187382490 0.8126173 TRUE     TRUE    rs12098284 \n",
       "nsnps36 0.093330106 0.9066678 TRUE     TRUE    rs12098284 \n",
       "nsnps48 0.000715646 0.9992825 TRUE     TRUE    rs12147845 "
      ]
     },
     "metadata": {},
     "output_type": "display_data"
    }
   ],
   "source": [
    "head(colocFAST_df_results[colocFAST_df_results$PP4 > 0.8,])\n"
   ]
  },
  {
   "cell_type": "code",
   "execution_count": 36,
   "id": "acee168a-8ae3-4511-8a25-8c75a1533f2f",
   "metadata": {},
   "outputs": [
    {
     "name": "stdout",
     "output_type": "stream",
     "text": [
      "[1] \"Writing coloc results for GCST009004\"\n"
     ]
    }
   ],
   "source": [
    "print(paste0(\"Writing coloc results for \", GWAS_ID))\n",
    "\n",
    "dir.create(\"coloc/Coloc_results\")\n",
    "\n",
    "fwrite(colocFAST_df_results, file= file.path(\"coloc/Coloc_results\", paste0(GWAS_ID, \"_colocABF_df_results.txt\")), sep=\"\\t\")\n"
   ]
  },
  {
   "cell_type": "code",
   "execution_count": 37,
   "id": "9f261614-e0a8-427b-b48a-fd690ee9db19",
   "metadata": {},
   "outputs": [
    {
     "data": {
      "text/html": [
       "<table class=\"dataframe\">\n",
       "<caption>A matrix: 2 × 6 of type dbl</caption>\n",
       "<thead>\n",
       "\t<tr><th></th><th scope=col>used</th><th scope=col>(Mb)</th><th scope=col>gc trigger</th><th scope=col>(Mb)</th><th scope=col>max used</th><th scope=col>(Mb)</th></tr>\n",
       "</thead>\n",
       "<tbody>\n",
       "\t<tr><th scope=row>Ncells</th><td> 94841992</td><td>5065.2</td><td> 182111160</td><td> 9725.8</td><td> 126679657</td><td> 6765.5</td></tr>\n",
       "\t<tr><th scope=row>Vcells</th><td>823425343</td><td>6282.3</td><td>1694957434</td><td>12931.5</td><td>1682725852</td><td>12838.2</td></tr>\n",
       "</tbody>\n",
       "</table>\n"
      ],
      "text/latex": [
       "A matrix: 2 × 6 of type dbl\n",
       "\\begin{tabular}{r|llllll}\n",
       "  & used & (Mb) & gc trigger & (Mb) & max used & (Mb)\\\\\n",
       "\\hline\n",
       "\tNcells &  94841992 & 5065.2 &  182111160 &  9725.8 &  126679657 &  6765.5\\\\\n",
       "\tVcells & 823425343 & 6282.3 & 1694957434 & 12931.5 & 1682725852 & 12838.2\\\\\n",
       "\\end{tabular}\n"
      ],
      "text/markdown": [
       "\n",
       "A matrix: 2 × 6 of type dbl\n",
       "\n",
       "| <!--/--> | used | (Mb) | gc trigger | (Mb) | max used | (Mb) |\n",
       "|---|---|---|---|---|---|---|\n",
       "| Ncells |  94841992 | 5065.2 |  182111160 |  9725.8 |  126679657 |  6765.5 |\n",
       "| Vcells | 823425343 | 6282.3 | 1694957434 | 12931.5 | 1682725852 | 12838.2 |\n",
       "\n"
      ],
      "text/plain": [
       "       used      (Mb)   gc trigger (Mb)    max used   (Mb)   \n",
       "Ncells  94841992 5065.2  182111160  9725.8  126679657  6765.5\n",
       "Vcells 823425343 6282.3 1694957434 12931.5 1682725852 12838.2"
      ]
     },
     "metadata": {},
     "output_type": "display_data"
    }
   ],
   "source": [
    "# Clean up\n",
    "rm(overlap_df)\n",
    "rm(mqtl_df)\n",
    "rm(cpg_df_gr)\n",
    "gc()"
   ]
  }
 ],
 "metadata": {
  "kernelspec": {
   "display_name": "R",
   "language": "R",
   "name": "ir"
  },
  "language_info": {
   "codemirror_mode": "r",
   "file_extension": ".r",
   "mimetype": "text/x-r-source",
   "name": "R",
   "pygments_lexer": "r",
   "version": "4.3.3"
  }
 },
 "nbformat": 4,
 "nbformat_minor": 5
}
